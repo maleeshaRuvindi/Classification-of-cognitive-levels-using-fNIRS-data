{
 "cells": [
  {
   "cell_type": "code",
   "execution_count": 49,
   "metadata": {},
   "outputs": [],
   "source": [
    "import os"
   ]
  },
  {
   "cell_type": "code",
   "execution_count": 50,
   "metadata": {},
   "outputs": [
    {
     "name": "stdout",
     "output_type": "stream",
     "text": [
      "1088\n"
     ]
    }
   ],
   "source": [
    "path = \"D:\\FYP\\Datasets\\dataset1\\segmented-oxy-deoxy\"\n",
    "file_list = [f for f in os.listdir(path) if os.path.isfile(os.path.join(path, f))]\n",
    "print(len(file_list))"
   ]
  },
  {
   "cell_type": "code",
   "execution_count": 51,
   "metadata": {},
   "outputs": [],
   "source": [
    "out=[]\n",
    "#oxy_files,deoxy_files=[],[]\n",
    "for name in file_list:\n",
    "    out.append(int(name[-5]))"
   ]
  },
  {
   "cell_type": "code",
   "execution_count": 52,
   "metadata": {},
   "outputs": [],
   "source": [
    "import pandas as pd\n",
    "import numpy as np\n",
    "%matplotlib inline\n",
    "import matplotlib.pyplot as plt\n",
    "from os import listdir\n",
    "\n",
    "import tensorflow as tf\n",
    "from keras.models import Sequential\n",
    "from keras.layers import Dense\n",
    "from keras.layers import Input\n",
    "\n",
    "from keras.layers import Dense\n",
    "from keras.layers import Dropout\n",
    "\n",
    "from keras.layers import BatchNormalization\n",
    "\n"
   ]
  },
  {
   "cell_type": "code",
   "execution_count": 53,
   "metadata": {},
   "outputs": [],
   "source": [
    "sequences = list()\n",
    "for i in file_list:\n",
    "    file_path = path + '\\\\'+i\n",
    "    #print(file_path)\n",
    "    df = pd.read_csv(file_path, header=0)\n",
    "    df=df.drop(['Unnamed: 0'],axis=1)\n",
    "    values = df.values\n",
    "    sequences.append(values)"
   ]
  },
  {
   "cell_type": "code",
   "execution_count": 54,
   "metadata": {},
   "outputs": [
    {
     "data": {
      "text/plain": [
       "count    1088.000000\n",
       "mean      425.937500\n",
       "std         0.242173\n",
       "min       425.000000\n",
       "25%       426.000000\n",
       "50%       426.000000\n",
       "75%       426.000000\n",
       "max       426.000000\n",
       "dtype: float64"
      ]
     },
     "execution_count": 54,
     "metadata": {},
     "output_type": "execute_result"
    }
   ],
   "source": [
    "len_sequences = []\n",
    "for one_seq in sequences:\n",
    "    len_sequences.append(len(one_seq))\n",
    "pd.Series(len_sequences).describe()"
   ]
  },
  {
   "cell_type": "code",
   "execution_count": 55,
   "metadata": {},
   "outputs": [
    {
     "data": {
      "text/plain": [
       "count    1088.0\n",
       "mean      425.0\n",
       "std         0.0\n",
       "min       425.0\n",
       "25%       425.0\n",
       "50%       425.0\n",
       "75%       425.0\n",
       "max       425.0\n",
       "dtype: float64"
      ]
     },
     "execution_count": 55,
     "metadata": {},
     "output_type": "execute_result"
    }
   ],
   "source": [
    "new_sequences=[]\n",
    "for i in range(len(sequences)):\n",
    "    new_sequences.append(sequences[i][:425])\n",
    "\n",
    "\n",
    "len_sequences = []\n",
    "for one_seq in new_sequences:\n",
    "    len_sequences.append(len(one_seq))\n",
    "pd.Series(len_sequences).describe()"
   ]
  },
  {
   "cell_type": "code",
   "execution_count": 56,
   "metadata": {},
   "outputs": [],
   "source": [
    "y=[]\n",
    "for i in range(len(out)):\n",
    "    if out[i]==0:\n",
    "        y.append(0)\n",
    "    else:\n",
    "        y.append(1)"
   ]
  },
  {
   "cell_type": "code",
   "execution_count": 57,
   "metadata": {},
   "outputs": [
    {
     "data": {
      "text/plain": [
       "count    1088.000000\n",
       "mean        0.750000\n",
       "std         0.433212\n",
       "min         0.000000\n",
       "25%         0.750000\n",
       "50%         1.000000\n",
       "75%         1.000000\n",
       "max         1.000000\n",
       "dtype: float64"
      ]
     },
     "execution_count": 57,
     "metadata": {},
     "output_type": "execute_result"
    }
   ],
   "source": [
    "y=np.array(y)\n",
    "pd.Series(y).describe()"
   ]
  },
  {
   "cell_type": "code",
   "execution_count": 58,
   "metadata": {},
   "outputs": [],
   "source": [
    "from sklearn.model_selection import train_test_split\n",
    "new_sequences=np.array(new_sequences)\n",
    "deoxy_out=np.array(out)\n",
    "X_train, X_test, y_train, y_test = train_test_split(new_sequences, y, test_size = 0.2, random_state = 0)"
   ]
  },
  {
   "cell_type": "code",
   "execution_count": 59,
   "metadata": {},
   "outputs": [],
   "source": [
    "def hbrdmdl():\n",
    "    model = Sequential()\n",
    "    model.add(Dense(100, input_dim=1700, activation='relu'))\n",
    "    model.add(BatchNormalization())\n",
    "    model.add(Dense(100, activation='relu'))\n",
    "    model.add(BatchNormalization())\n",
    "    model.add(Dense(100, activation='relu'))\n",
    "    model.add(BatchNormalization())\n",
    "    model.add(Dense(100, activation='relu'))\n",
    "    model.add(BatchNormalization())\n",
    "    model.add(Dense(100, activation='relu'))\n",
    "    model.add(BatchNormalization())\n",
    "    model.add(Dense(100, activation='relu'))\n",
    "    model.add(BatchNormalization())\n",
    "    model.add(Dense(50, activation='relu'))\n",
    "    model.add(BatchNormalization())\n",
    "    model.add(Dense(10, activation='relu'))\n",
    "    model.add(Dropout(.3))\n",
    "    model.add(Dense(1, activation = 'sigmoid'))\n",
    "    model.compile(loss='binary_crossentropy', optimizer='adam', metrics=['accuracy'])\n",
    "    return model"
   ]
  },
  {
   "cell_type": "code",
   "execution_count": 60,
   "metadata": {},
   "outputs": [],
   "source": [
    "X_train=np.array(X_train)\n",
    "y_train=np.array(y_train)"
   ]
  },
  {
   "cell_type": "code",
   "execution_count": 61,
   "metadata": {},
   "outputs": [
    {
     "name": "stdout",
     "output_type": "stream",
     "text": [
      "Shapiro-Wilk test statistic: 0.9028301239013672\n",
      "p-value: 1.4719844714033547e-31\n",
      "The data does not appear to be normally distributed.\n"
     ]
    }
   ],
   "source": [
    "from scipy import stats\n",
    "\n",
    "stat, pvalue = stats.shapiro(X_train[400])\n",
    "\n",
    "# Print the results\n",
    "print(\"Shapiro-Wilk test statistic:\", stat)\n",
    "print(\"p-value:\", pvalue)\n",
    "if pvalue > 0.05:\n",
    "    print(\"The data appears to be normally distributed.\")\n",
    "else:\n",
    "    print(\"The data does not appear to be normally distributed.\")\n"
   ]
  },
  {
   "cell_type": "code",
   "execution_count": 62,
   "metadata": {},
   "outputs": [
    {
     "data": {
      "text/plain": [
       "(array([[  0.,  92., 104., 167.,  52.,   5.,   5.,   0.,   0.,   0.],\n",
       "        [  0.,  92.,  61., 272.,   0.,   0.,   0.,   0.,   0.,   0.],\n",
       "        [  0.,  53., 219., 118.,  10.,   7.,   5.,   5.,   4.,   4.],\n",
       "        [ 13.,  19., 125., 268.,   0.,   0.,   0.,   0.,   0.,   0.]]),\n",
       " array([-0.63598606, -0.42452312, -0.21306017, -0.00159722,  0.20986572,\n",
       "         0.42132867,  0.63279161,  0.84425456,  1.05571751,  1.26718045,\n",
       "         1.4786434 ]),\n",
       " <a list of 4 BarContainer objects>)"
      ]
     },
     "execution_count": 62,
     "metadata": {},
     "output_type": "execute_result"
    },
    {
     "data": {
      "image/png": "[encoded data removed]",
      "text/plain": [
       "<Figure size 432x288 with 1 Axes>"
      ]
     },
     "metadata": {
      "needs_background": "light"
     },
     "output_type": "display_data"
    }
   ],
   "source": [
    "plt.hist(X_train[100])"
   ]
  },
  {
   "cell_type": "code",
   "execution_count": 63,
   "metadata": {},
   "outputs": [
    {
     "name": "stdout",
     "output_type": "stream",
     "text": [
      "(870, 425, 4)\n",
      "(218, 425, 4)\n",
      "(870,)\n",
      "(218,)\n"
     ]
    }
   ],
   "source": [
    "print(X_train.shape)\n",
    "print(X_test.shape)\n",
    "print(y_train.shape)\n",
    "print(y_test.shape)"
   ]
  },
  {
   "cell_type": "code",
   "execution_count": 64,
   "metadata": {},
   "outputs": [
    {
     "name": "stdout",
     "output_type": "stream",
     "text": [
      "Original array shape: (870, 1700)\n"
     ]
    }
   ],
   "source": [
    "X_train = X_train.reshape(870, -1)  # -1 infers the number of elements from the remaining dimensions\n",
    "\n",
    "# Print the original and reshaped array shapes for verification\n",
    "print(f\"Original array shape: {X_train.shape}\")\n",
    "#print(f\"Reshaped array shape: {x_train_reshaped.shape}\")"
   ]
  },
  {
   "cell_type": "code",
   "execution_count": 65,
   "metadata": {},
   "outputs": [
    {
     "data": {
      "text/plain": [
       "(array([ 13., 256., 509., 825.,  62.,  12.,  10.,   5.,   4.,   4.]),\n",
       " array([-0.63598606, -0.42452312, -0.21306017, -0.00159722,  0.20986572,\n",
       "         0.42132867,  0.63279161,  0.84425456,  1.05571751,  1.26718045,\n",
       "         1.4786434 ]),\n",
       " <BarContainer object of 10 artists>)"
      ]
     },
     "execution_count": 65,
     "metadata": {},
     "output_type": "execute_result"
    },
    {
     "data": {
      "image/png": "[encoded data removed]",
      "text/plain": [
       "<Figure size 432x288 with 1 Axes>"
      ]
     },
     "metadata": {
      "needs_background": "light"
     },
     "output_type": "display_data"
    }
   ],
   "source": [
    "plt.hist(X_train[100])"
   ]
  },
  {
   "cell_type": "code",
   "execution_count": 66,
   "metadata": {},
   "outputs": [],
   "source": [
    "min_vals = X_train.min(axis=0)\n",
    "max_vals = X_train.max(axis=0)\n",
    "X_train = (X_train - min_vals) / (max_vals - min_vals)"
   ]
  },
  {
   "cell_type": "code",
   "execution_count": 69,
   "metadata": {},
   "outputs": [
    {
     "name": "stdout",
     "output_type": "stream",
     "text": [
      "Epoch 1/60\n",
      "24/24 [==============================] - 3s 22ms/step - loss: 0.7853 - accuracy: 0.5602 - val_loss: 0.6828 - val_accuracy: 0.7023\n",
      "Epoch 2/60\n",
      "24/24 [==============================] - 0s 7ms/step - loss: 0.6647 - accuracy: 0.6252 - val_loss: 0.6737 - val_accuracy: 0.6870\n",
      "Epoch 3/60\n",
      "24/24 [==============================] - 0s 7ms/step - loss: 0.6424 - accuracy: 0.6563 - val_loss: 0.6684 - val_accuracy: 0.7023\n",
      "Epoch 4/60\n",
      "24/24 [==============================] - 0s 7ms/step - loss: 0.6049 - accuracy: 0.6861 - val_loss: 0.6623 - val_accuracy: 0.7099\n",
      "Epoch 5/60\n",
      "24/24 [==============================] - 0s 7ms/step - loss: 0.6086 - accuracy: 0.7064 - val_loss: 0.6645 - val_accuracy: 0.6947\n",
      "Epoch 6/60\n",
      "24/24 [==============================] - 0s 7ms/step - loss: 0.5525 - accuracy: 0.7267 - val_loss: 0.6426 - val_accuracy: 0.7176\n",
      "Epoch 7/60\n",
      "24/24 [==============================] - 0s 8ms/step - loss: 0.5644 - accuracy: 0.7226 - val_loss: 0.6238 - val_accuracy: 0.7023\n",
      "Epoch 8/60\n",
      "24/24 [==============================] - 0s 8ms/step - loss: 0.5674 - accuracy: 0.7172 - val_loss: 0.6321 - val_accuracy: 0.7099\n",
      "Epoch 9/60\n",
      "24/24 [==============================] - 0s 7ms/step - loss: 0.5712 - accuracy: 0.7240 - val_loss: 0.5806 - val_accuracy: 0.7099\n",
      "Epoch 10/60\n",
      "24/24 [==============================] - 0s 8ms/step - loss: 0.5394 - accuracy: 0.7402 - val_loss: 0.5742 - val_accuracy: 0.7176\n",
      "Epoch 11/60\n",
      "24/24 [==============================] - 0s 10ms/step - loss: 0.5049 - accuracy: 0.7429 - val_loss: 0.5911 - val_accuracy: 0.7099\n",
      "Epoch 12/60\n",
      "24/24 [==============================] - 0s 8ms/step - loss: 0.5064 - accuracy: 0.7700 - val_loss: 0.6073 - val_accuracy: 0.7099\n",
      "Epoch 13/60\n",
      "24/24 [==============================] - 0s 8ms/step - loss: 0.5441 - accuracy: 0.7321 - val_loss: 0.6273 - val_accuracy: 0.7023\n",
      "Epoch 14/60\n",
      "24/24 [==============================] - 0s 7ms/step - loss: 0.5929 - accuracy: 0.7131 - val_loss: 0.6061 - val_accuracy: 0.7099\n",
      "Epoch 15/60\n",
      "24/24 [==============================] - 0s 8ms/step - loss: 0.5574 - accuracy: 0.7321 - val_loss: 0.6154 - val_accuracy: 0.7023\n",
      "Epoch 16/60\n",
      "24/24 [==============================] - 0s 8ms/step - loss: 0.5660 - accuracy: 0.7564 - val_loss: 0.6154 - val_accuracy: 0.7099\n",
      "Epoch 17/60\n",
      "24/24 [==============================] - 0s 8ms/step - loss: 0.5574 - accuracy: 0.7564 - val_loss: 0.6035 - val_accuracy: 0.6947\n",
      "Epoch 18/60\n",
      "24/24 [==============================] - 0s 8ms/step - loss: 0.5494 - accuracy: 0.7537 - val_loss: 0.6009 - val_accuracy: 0.7023\n",
      "Epoch 19/60\n",
      "24/24 [==============================] - 0s 8ms/step - loss: 0.5121 - accuracy: 0.7551 - val_loss: 0.5967 - val_accuracy: 0.7023\n",
      "Epoch 20/60\n",
      "24/24 [==============================] - 0s 7ms/step - loss: 0.5335 - accuracy: 0.7673 - val_loss: 0.6201 - val_accuracy: 0.7099\n",
      "Epoch 21/60\n",
      "24/24 [==============================] - 0s 8ms/step - loss: 0.5399 - accuracy: 0.7551 - val_loss: 0.6372 - val_accuracy: 0.7252\n",
      "Epoch 22/60\n",
      "24/24 [==============================] - 0s 8ms/step - loss: 0.5411 - accuracy: 0.7524 - val_loss: 0.6614 - val_accuracy: 0.6641\n",
      "Epoch 23/60\n",
      "24/24 [==============================] - 0s 7ms/step - loss: 0.5250 - accuracy: 0.7429 - val_loss: 0.6490 - val_accuracy: 0.6718\n",
      "Epoch 24/60\n",
      "24/24 [==============================] - 0s 7ms/step - loss: 0.5208 - accuracy: 0.7645 - val_loss: 0.6898 - val_accuracy: 0.6794\n",
      "Epoch 25/60\n",
      "24/24 [==============================] - 0s 7ms/step - loss: 0.5270 - accuracy: 0.7510 - val_loss: 0.6601 - val_accuracy: 0.6870\n",
      "Epoch 26/60\n",
      "24/24 [==============================] - 0s 7ms/step - loss: 0.5025 - accuracy: 0.7700 - val_loss: 0.6521 - val_accuracy: 0.6947\n",
      "Epoch 27/60\n",
      "24/24 [==============================] - 0s 8ms/step - loss: 0.5095 - accuracy: 0.7605 - val_loss: 0.6807 - val_accuracy: 0.6870\n",
      "Epoch 28/60\n",
      "24/24 [==============================] - 0s 8ms/step - loss: 0.5107 - accuracy: 0.7727 - val_loss: 0.6795 - val_accuracy: 0.6641\n",
      "Epoch 29/60\n",
      "24/24 [==============================] - 0s 7ms/step - loss: 0.4868 - accuracy: 0.7713 - val_loss: 0.6837 - val_accuracy: 0.6641\n",
      "Epoch 30/60\n",
      "24/24 [==============================] - 0s 8ms/step - loss: 0.4930 - accuracy: 0.7618 - val_loss: 0.6968 - val_accuracy: 0.6794\n",
      "Epoch 31/60\n",
      "24/24 [==============================] - 0s 8ms/step - loss: 0.4970 - accuracy: 0.7713 - val_loss: 0.7151 - val_accuracy: 0.6489\n",
      "Epoch 32/60\n",
      "24/24 [==============================] - 0s 8ms/step - loss: 0.5026 - accuracy: 0.7632 - val_loss: 0.7041 - val_accuracy: 0.6412\n",
      "Epoch 33/60\n",
      "24/24 [==============================] - 0s 7ms/step - loss: 0.5013 - accuracy: 0.7781 - val_loss: 0.7267 - val_accuracy: 0.6794\n",
      "Epoch 34/60\n",
      "24/24 [==============================] - 0s 8ms/step - loss: 0.5186 - accuracy: 0.7645 - val_loss: 0.7614 - val_accuracy: 0.6947\n",
      "Epoch 35/60\n",
      "24/24 [==============================] - 0s 9ms/step - loss: 0.4973 - accuracy: 0.7781 - val_loss: 0.7072 - val_accuracy: 0.6870\n",
      "Epoch 36/60\n",
      "24/24 [==============================] - 0s 8ms/step - loss: 0.5075 - accuracy: 0.7510 - val_loss: 0.6451 - val_accuracy: 0.6794\n",
      "Epoch 37/60\n",
      "24/24 [==============================] - 0s 7ms/step - loss: 0.4982 - accuracy: 0.7537 - val_loss: 0.6558 - val_accuracy: 0.7099\n",
      "Epoch 38/60\n",
      "24/24 [==============================] - 0s 7ms/step - loss: 0.5163 - accuracy: 0.7605 - val_loss: 0.6363 - val_accuracy: 0.6947\n",
      "Epoch 39/60\n",
      "24/24 [==============================] - 0s 8ms/step - loss: 0.5151 - accuracy: 0.7510 - val_loss: 0.6314 - val_accuracy: 0.7023\n",
      "Epoch 40/60\n",
      "24/24 [==============================] - 0s 8ms/step - loss: 0.5022 - accuracy: 0.7740 - val_loss: 0.6407 - val_accuracy: 0.6870\n",
      "Epoch 41/60\n",
      "24/24 [==============================] - 0s 8ms/step - loss: 0.4778 - accuracy: 0.7754 - val_loss: 0.6676 - val_accuracy: 0.6947\n",
      "Epoch 42/60\n",
      "24/24 [==============================] - 0s 7ms/step - loss: 0.4988 - accuracy: 0.7835 - val_loss: 0.6828 - val_accuracy: 0.6641\n",
      "Epoch 43/60\n",
      "24/24 [==============================] - 0s 7ms/step - loss: 0.5064 - accuracy: 0.7605 - val_loss: 0.6765 - val_accuracy: 0.6870\n",
      "Epoch 44/60\n",
      "24/24 [==============================] - 0s 8ms/step - loss: 0.4812 - accuracy: 0.7767 - val_loss: 0.6692 - val_accuracy: 0.6718\n",
      "Epoch 45/60\n",
      "24/24 [==============================] - 0s 9ms/step - loss: 0.4799 - accuracy: 0.7808 - val_loss: 0.6619 - val_accuracy: 0.6336\n",
      "Epoch 46/60\n",
      "24/24 [==============================] - 0s 7ms/step - loss: 0.4863 - accuracy: 0.7713 - val_loss: 0.7417 - val_accuracy: 0.6031\n",
      "Epoch 47/60\n",
      "24/24 [==============================] - 0s 8ms/step - loss: 0.4950 - accuracy: 0.7659 - val_loss: 0.7117 - val_accuracy: 0.6947\n",
      "Epoch 48/60\n",
      "24/24 [==============================] - 0s 8ms/step - loss: 0.5094 - accuracy: 0.7713 - val_loss: 0.6648 - val_accuracy: 0.6870\n",
      "Epoch 49/60\n",
      "24/24 [==============================] - 0s 8ms/step - loss: 0.4954 - accuracy: 0.7794 - val_loss: 0.6472 - val_accuracy: 0.6794\n",
      "Epoch 50/60\n",
      "24/24 [==============================] - 0s 8ms/step - loss: 0.4813 - accuracy: 0.7564 - val_loss: 0.6274 - val_accuracy: 0.6794\n",
      "Epoch 51/60\n",
      "24/24 [==============================] - 0s 8ms/step - loss: 0.5030 - accuracy: 0.7578 - val_loss: 0.6931 - val_accuracy: 0.5954\n",
      "Epoch 52/60\n",
      "24/24 [==============================] - 0s 8ms/step - loss: 0.5044 - accuracy: 0.7470 - val_loss: 0.6455 - val_accuracy: 0.6641\n",
      "Epoch 53/60\n",
      "24/24 [==============================] - 0s 8ms/step - loss: 0.4997 - accuracy: 0.7483 - val_loss: 0.6468 - val_accuracy: 0.6107\n",
      "Epoch 54/60\n",
      "24/24 [==============================] - 0s 7ms/step - loss: 0.5034 - accuracy: 0.7524 - val_loss: 0.6732 - val_accuracy: 0.6107\n",
      "Epoch 55/60\n",
      "24/24 [==============================] - 0s 8ms/step - loss: 0.4967 - accuracy: 0.7632 - val_loss: 0.6481 - val_accuracy: 0.6336\n",
      "Epoch 56/60\n",
      "24/24 [==============================] - 0s 8ms/step - loss: 0.5019 - accuracy: 0.7537 - val_loss: 0.6283 - val_accuracy: 0.6794\n",
      "Epoch 57/60\n",
      "24/24 [==============================] - 0s 7ms/step - loss: 0.4757 - accuracy: 0.7686 - val_loss: 0.6578 - val_accuracy: 0.6565\n",
      "Epoch 58/60\n",
      "24/24 [==============================] - 0s 8ms/step - loss: 0.4732 - accuracy: 0.7659 - val_loss: 0.6463 - val_accuracy: 0.6718\n",
      "Epoch 59/60\n",
      "24/24 [==============================] - 0s 8ms/step - loss: 0.4740 - accuracy: 0.7835 - val_loss: 0.6498 - val_accuracy: 0.6870\n",
      "Epoch 60/60\n",
      "24/24 [==============================] - 0s 7ms/step - loss: 0.4704 - accuracy: 0.7889 - val_loss: 0.6425 - val_accuracy: 0.7252\n"
     ]
    }
   ],
   "source": [
    "\n",
    "graph_model = hbrdmdl()\n",
    "history=graph_model.fit(X_train, y_train, epochs=60, batch_size=32, validation_split = .15, verbose = 1)\n",
    "\n",
    "#scores = graph_model.evaluate(X_test, y_test)\n",
    "#print(\"\\n%s: %.2f%%\" % (graph_model.metrics_names[1], scores[1]*100))"
   ]
  },
  {
   "cell_type": "code",
   "execution_count": 70,
   "metadata": {},
   "outputs": [
    {
     "name": "stdout",
     "output_type": "stream",
     "text": [
      "[0.56021648645401, 0.6251691579818726, 0.6562922596931458, 0.686062216758728, 0.7063599228858948, 0.7266576290130615, 0.7225980758666992, 0.717185378074646, 0.7239512801170349, 0.7401894330978394, 0.742895781993866, 0.7699593901634216, 0.7320703864097595, 0.7131258249282837, 0.7320703864097595, 0.7564275860786438, 0.7564275860786438, 0.7537212371826172, 0.7550744414329529, 0.767253041267395, 0.7550744414329529, 0.7523680925369263, 0.742895781993866, 0.7645466923713684, 0.7510148882865906, 0.7699593901634216, 0.7604871392250061, 0.7726657390594482, 0.7713125944137573, 0.7618403434753418, 0.7713125944137573, 0.7631934881210327, 0.7780784964561462, 0.7645466923713684, 0.7780784964561462, 0.7510148882865906, 0.7537212371826172, 0.7604871392250061, 0.7510148882865906, 0.7740189433097839, 0.7753721475601196, 0.7834911942481995, 0.7604871392250061, 0.7767252922058105, 0.7807848453521729, 0.7713125944137573, 0.7658998370170593, 0.7713125944137573, 0.7794316411018372, 0.7564275860786438, 0.7577807903289795, 0.7469553351402283, 0.748308539390564, 0.7523680925369263, 0.7631934881210327, 0.7537212371826172, 0.7686062455177307, 0.7658998370170593, 0.7834911942481995, 0.7889039516448975]\n",
      "[0.7022900581359863, 0.6870229244232178, 0.7022900581359863, 0.7099236845970154, 0.694656491279602, 0.7175572514533997, 0.7022900581359863, 0.7099236845970154, 0.7099236845970154, 0.7175572514533997, 0.7099236845970154, 0.7099236845970154, 0.7022900581359863, 0.7099236845970154, 0.7022900581359863, 0.7099236845970154, 0.694656491279602, 0.7022900581359863, 0.7022900581359863, 0.7099236845970154, 0.7251908183097839, 0.6641221642494202, 0.6717557311058044, 0.6793892979621887, 0.6870229244232178, 0.694656491279602, 0.6870229244232178, 0.6641221642494202, 0.6641221642494202, 0.6793892979621887, 0.6488549709320068, 0.6412213444709778, 0.6793892979621887, 0.694656491279602, 0.6870229244232178, 0.6793892979621887, 0.7099236845970154, 0.694656491279602, 0.7022900581359863, 0.6870229244232178, 0.694656491279602, 0.6641221642494202, 0.6870229244232178, 0.6717557311058044, 0.6335877776145935, 0.6030534505844116, 0.694656491279602, 0.6870229244232178, 0.6793892979621887, 0.6793892979621887, 0.5954198241233826, 0.6641221642494202, 0.6106870174407959, 0.6106870174407959, 0.6335877776145935, 0.6793892979621887, 0.6564885377883911, 0.6717557311058044, 0.6870229244232178, 0.7251908183097839]\n"
     ]
    }
   ],
   "source": [
    "train_acc = history.history['accuracy']\n",
    "val_acc = history.history['val_accuracy']\n",
    "\n",
    "print(train_acc)\n",
    "print(val_acc)"
   ]
  },
  {
   "cell_type": "code",
   "execution_count": 73,
   "metadata": {},
   "outputs": [
    {
     "data": {
      "text/plain": [
       "[<matplotlib.lines.Line2D at 0x16fecceaf80>]"
      ]
     },
     "execution_count": 73,
     "metadata": {},
     "output_type": "execute_result"
    },
    {
     "data": {
      "image/png": "[encoded data removed]",
      "text/plain": [
       "<Figure size 432x288 with 1 Axes>"
      ]
     },
     "metadata": {
      "needs_background": "light"
     },
     "output_type": "display_data"
    }
   ],
   "source": [
    "x_axis=list(range(1,61))\n",
    "plt.plot(x_axis,train_acc)\n",
    "plt.plot(x_axis,val_acc)\n",
    "#plt.legend('train_acc','val_acc')"
   ]
  },
  {
   "cell_type": "code",
   "execution_count": 41,
   "metadata": {},
   "outputs": [
    {
     "name": "stdout",
     "output_type": "stream",
     "text": [
      "(870, 1700)\n",
      "(870,)\n"
     ]
    }
   ],
   "source": [
    "print(X_train.shape)\n",
    "print(y_train.shape)"
   ]
  },
  {
   "cell_type": "code",
   "execution_count": 106,
   "metadata": {},
   "outputs": [
    {
     "name": "stdout",
     "output_type": "stream",
     "text": [
      "(None, None, 1)\n"
     ]
    }
   ],
   "source": [
    "model = tf.keras.Sequential([\n",
    "tf.keras.layers.Conv1D(filters=128, kernel_size=3, activation='relu', input_shape=(None, 128, 1), padding='same'),\n",
    "tf.keras.layers.Conv1D(filters=64, kernel_size=5, activation='relu', input_shape=(None, 64, 1), padding='same'),\n",
    "tf.keras.layers.Conv1D(filters=32, kernel_size=11, activation='relu', input_shape=(None, 32, 1), padding='same'),\n",
    "tf.keras.layers.Dropout(rate=0.5),\n",
    "tf.keras.layers.ReLU(),\n",
    "tf.keras.layers.Flatten(),\n",
    "tf.keras.layers.Reshape((-1, 32 * 2)),\n",
    "tf.keras.layers.MaxPool1D(pool_size=(2)),\n",
    "tf.keras.layers.Dense(units=64, activation=\"relu\"),\n",
    "tf.keras.layers.Dense(units=1, activation=\"sigmoid\")\n",
    "\n",
    "])\n",
    "print(model.output_shape)"
   ]
  },
  {
   "cell_type": "code",
   "execution_count": 109,
   "metadata": {},
   "outputs": [
    {
     "name": "stdout",
     "output_type": "stream",
     "text": [
      "(870, 1700)\n"
     ]
    }
   ],
   "source": [
    "print(X_train.shape)"
   ]
  },
  {
   "cell_type": "code",
   "execution_count": 110,
   "metadata": {},
   "outputs": [
    {
     "name": "stdout",
     "output_type": "stream",
     "text": [
      "Epoch 1/60\n",
      "WARNING:tensorflow:Model was constructed with shape (None, None, 128, 1) for input KerasTensor(type_spec=TensorSpec(shape=(None, None, 128, 1), dtype=tf.float32, name='conv1d_17_input'), name='conv1d_17_input', description=\"created by layer 'conv1d_17_input'\"), but it was called on an input with incompatible shape (None, 1700).\n"
     ]
    },
    {
     "ename": "ValueError",
     "evalue": "in user code:\n\n    File \"c:\\Python310\\cv\\lib\\site-packages\\keras\\engine\\training.py\", line 1051, in train_function  *\n        return step_function(self, iterator)\n    File \"c:\\Python310\\cv\\lib\\site-packages\\keras\\engine\\training.py\", line 1040, in step_function  **\n        outputs = model.distribute_strategy.run(run_step, args=(data,))\n    File \"c:\\Python310\\cv\\lib\\site-packages\\keras\\engine\\training.py\", line 1030, in run_step  **\n        outputs = model.train_step(data)\n    File \"c:\\Python310\\cv\\lib\\site-packages\\keras\\engine\\training.py\", line 889, in train_step\n        y_pred = self(x, training=True)\n    File \"c:\\Python310\\cv\\lib\\site-packages\\keras\\utils\\traceback_utils.py\", line 67, in error_handler\n        raise e.with_traceback(filtered_tb) from None\n    File \"c:\\Python310\\cv\\lib\\site-packages\\keras\\engine\\input_spec.py\", line 228, in assert_input_compatibility\n        raise ValueError(f'Input {input_index} of layer \"{layer_name}\" '\n\n    ValueError: Exception encountered when calling layer \"sequential_31\" (type Sequential).\n    \n    Input 0 of layer \"conv1d_17\" is incompatible with the layer: expected min_ndim=3, found ndim=2. Full shape received: (None, 1700)\n    \n    Call arguments received by layer \"sequential_31\" (type Sequential):\n      • inputs=tf.Tensor(shape=(None, 1700), dtype=float32)\n      • training=True\n      • mask=None\n",
     "output_type": "error",
     "traceback": [
      "\u001b[1;31m---------------------------------------------------------------------------\u001b[0m",
      "\u001b[1;31mValueError\u001b[0m                                Traceback (most recent call last)",
      "Input \u001b[1;32mIn [110]\u001b[0m, in \u001b[0;36m<module>\u001b[1;34m\u001b[0m\n\u001b[0;32m      1\u001b[0m model\u001b[38;5;241m.\u001b[39mcompile(loss\u001b[38;5;241m=\u001b[39m\u001b[38;5;124m'\u001b[39m\u001b[38;5;124mbinary_crossentropy\u001b[39m\u001b[38;5;124m'\u001b[39m, optimizer\u001b[38;5;241m=\u001b[39m\u001b[38;5;124m'\u001b[39m\u001b[38;5;124madam\u001b[39m\u001b[38;5;124m'\u001b[39m, metrics\u001b[38;5;241m=\u001b[39m[\u001b[38;5;124m'\u001b[39m\u001b[38;5;124maccuracy\u001b[39m\u001b[38;5;124m'\u001b[39m])\n\u001b[1;32m----> 2\u001b[0m \u001b[43mmodel\u001b[49m\u001b[38;5;241;43m.\u001b[39;49m\u001b[43mfit\u001b[49m\u001b[43m(\u001b[49m\u001b[43mX_train\u001b[49m\u001b[43m,\u001b[49m\u001b[43m \u001b[49m\u001b[43my_train\u001b[49m\u001b[43m,\u001b[49m\u001b[43m \u001b[49m\u001b[43mepochs\u001b[49m\u001b[38;5;241;43m=\u001b[39;49m\u001b[38;5;241;43m60\u001b[39;49m\u001b[43m,\u001b[49m\u001b[43m \u001b[49m\u001b[43mbatch_size\u001b[49m\u001b[38;5;241;43m=\u001b[39;49m\u001b[38;5;241;43m32\u001b[39;49m\u001b[43m)\u001b[49m\n",
      "File \u001b[1;32mc:\\Python310\\cv\\lib\\site-packages\\keras\\utils\\traceback_utils.py:67\u001b[0m, in \u001b[0;36mfilter_traceback.<locals>.error_handler\u001b[1;34m(*args, **kwargs)\u001b[0m\n\u001b[0;32m     65\u001b[0m \u001b[38;5;28;01mexcept\u001b[39;00m \u001b[38;5;167;01mException\u001b[39;00m \u001b[38;5;28;01mas\u001b[39;00m e:  \u001b[38;5;66;03m# pylint: disable=broad-except\u001b[39;00m\n\u001b[0;32m     66\u001b[0m   filtered_tb \u001b[38;5;241m=\u001b[39m _process_traceback_frames(e\u001b[38;5;241m.\u001b[39m__traceback__)\n\u001b[1;32m---> 67\u001b[0m   \u001b[38;5;28;01mraise\u001b[39;00m e\u001b[38;5;241m.\u001b[39mwith_traceback(filtered_tb) \u001b[38;5;28;01mfrom\u001b[39;00m \u001b[38;5;28mNone\u001b[39m\n\u001b[0;32m     68\u001b[0m \u001b[38;5;28;01mfinally\u001b[39;00m:\n\u001b[0;32m     69\u001b[0m   \u001b[38;5;28;01mdel\u001b[39;00m filtered_tb\n",
      "File \u001b[1;32m~\\AppData\\Local\\Temp\\__autograph_generated_file70kvlg30.py:15\u001b[0m, in \u001b[0;36mouter_factory.<locals>.inner_factory.<locals>.tf__train_function\u001b[1;34m(iterator)\u001b[0m\n\u001b[0;32m     13\u001b[0m \u001b[38;5;28;01mtry\u001b[39;00m:\n\u001b[0;32m     14\u001b[0m     do_return \u001b[38;5;241m=\u001b[39m \u001b[38;5;28;01mTrue\u001b[39;00m\n\u001b[1;32m---> 15\u001b[0m     retval_ \u001b[38;5;241m=\u001b[39m ag__\u001b[38;5;241m.\u001b[39mconverted_call(ag__\u001b[38;5;241m.\u001b[39mld(step_function), (ag__\u001b[38;5;241m.\u001b[39mld(\u001b[38;5;28mself\u001b[39m), ag__\u001b[38;5;241m.\u001b[39mld(iterator)), \u001b[38;5;28;01mNone\u001b[39;00m, fscope)\n\u001b[0;32m     16\u001b[0m \u001b[38;5;28;01mexcept\u001b[39;00m:\n\u001b[0;32m     17\u001b[0m     do_return \u001b[38;5;241m=\u001b[39m \u001b[38;5;28;01mFalse\u001b[39;00m\n",
      "\u001b[1;31mValueError\u001b[0m: in user code:\n\n    File \"c:\\Python310\\cv\\lib\\site-packages\\keras\\engine\\training.py\", line 1051, in train_function  *\n        return step_function(self, iterator)\n    File \"c:\\Python310\\cv\\lib\\site-packages\\keras\\engine\\training.py\", line 1040, in step_function  **\n        outputs = model.distribute_strategy.run(run_step, args=(data,))\n    File \"c:\\Python310\\cv\\lib\\site-packages\\keras\\engine\\training.py\", line 1030, in run_step  **\n        outputs = model.train_step(data)\n    File \"c:\\Python310\\cv\\lib\\site-packages\\keras\\engine\\training.py\", line 889, in train_step\n        y_pred = self(x, training=True)\n    File \"c:\\Python310\\cv\\lib\\site-packages\\keras\\utils\\traceback_utils.py\", line 67, in error_handler\n        raise e.with_traceback(filtered_tb) from None\n    File \"c:\\Python310\\cv\\lib\\site-packages\\keras\\engine\\input_spec.py\", line 228, in assert_input_compatibility\n        raise ValueError(f'Input {input_index} of layer \"{layer_name}\" '\n\n    ValueError: Exception encountered when calling layer \"sequential_31\" (type Sequential).\n    \n    Input 0 of layer \"conv1d_17\" is incompatible with the layer: expected min_ndim=3, found ndim=2. Full shape received: (None, 1700)\n    \n    Call arguments received by layer \"sequential_31\" (type Sequential):\n      • inputs=tf.Tensor(shape=(None, 1700), dtype=float32)\n      • training=True\n      • mask=None\n"
     ]
    }
   ],
   "source": [
    "model.compile(loss='binary_crossentropy', optimizer='adam', metrics=['accuracy'])\n",
    "model.fit(X_train, y_train, epochs=60, batch_size=32)"
   ]
  },
  {
   "cell_type": "code",
   "execution_count": 75,
   "metadata": {},
   "outputs": [],
   "source": [
    "import tensorflow as tf\n",
    "\n",
    "from tensorflow.keras import datasets, layers, models\n",
    "import matplotlib.pyplot as plt\n",
    "import keras_tuner as kt"
   ]
  },
  {
   "cell_type": "code",
   "execution_count": 104,
   "metadata": {},
   "outputs": [
    {
     "name": "stdout",
     "output_type": "stream",
     "text": [
      "(None, 847, 2)\n"
     ]
    }
   ],
   "source": [
    "model = tf.keras.Sequential([\n",
    "  tf.keras.Input(shape=(1700, 1)),\n",
    "  tf.keras.layers.Conv1D(1,3, activation='relu'),\n",
    "  tf.keras.layers.MaxPooling1D(pool_size=(2), strides=(2)),\n",
    "  tf.keras.layers.Conv1D(1,3, activation='relu'),\n",
    "  tf.keras.layers.Dense(units=64, activation='relu'),\n",
    "  tf.keras.layers.Dense((2))])\n",
    " \n",
    "\n",
    "print(model.output_shape)"
   ]
  },
  {
   "cell_type": "code",
   "execution_count": 88,
   "metadata": {},
   "outputs": [
    {
     "ename": "ValueError",
     "evalue": "Exception encountered when calling layer \"conv2d_20\" (type Conv2D).\n\nNegative dimension size caused by subtracting 3 from 2 for '{{node conv2d_20/Conv2D}} = Conv2D[T=DT_FLOAT, data_format=\"NHWC\", dilations=[1, 1, 1, 1], explicit_paddings=[], padding=\"VALID\", strides=[1, 1, 1, 1], use_cudnn_on_gpu=true](Placeholder, conv2d_20/Conv2D/ReadVariableOp)' with input shapes: [?,423,2,1], [3,3,1,1].\n\nCall arguments received by layer \"conv2d_20\" (type Conv2D):\n  • inputs=tf.Tensor(shape=(None, 423, 2, 1), dtype=float32)",
     "output_type": "error",
     "traceback": [
      "\u001b[1;31m---------------------------------------------------------------------------\u001b[0m",
      "\u001b[1;31mValueError\u001b[0m                                Traceback (most recent call last)",
      "Input \u001b[1;32mIn [88]\u001b[0m, in \u001b[0;36m<module>\u001b[1;34m\u001b[0m\n\u001b[0;32m      1\u001b[0m \u001b[38;5;28;01mimport\u001b[39;00m \u001b[38;5;21;01mtensorflow\u001b[39;00m \u001b[38;5;28;01mas\u001b[39;00m \u001b[38;5;21;01mtf\u001b[39;00m\n\u001b[1;32m----> 3\u001b[0m model \u001b[38;5;241m=\u001b[39m \u001b[43mtf\u001b[49m\u001b[38;5;241;43m.\u001b[39;49m\u001b[43mkeras\u001b[49m\u001b[38;5;241;43m.\u001b[39;49m\u001b[43mSequential\u001b[49m\u001b[43m(\u001b[49m\u001b[43m[\u001b[49m\n\u001b[0;32m      4\u001b[0m \u001b[43m  \u001b[49m\u001b[43mtf\u001b[49m\u001b[38;5;241;43m.\u001b[39;49m\u001b[43mkeras\u001b[49m\u001b[38;5;241;43m.\u001b[39;49m\u001b[43mInput\u001b[49m\u001b[43m(\u001b[49m\u001b[43mshape\u001b[49m\u001b[38;5;241;43m=\u001b[39;49m\u001b[43m(\u001b[49m\u001b[38;5;241;43m425\u001b[39;49m\u001b[43m,\u001b[49m\u001b[43m \u001b[49m\u001b[38;5;241;43m4\u001b[39;49m\u001b[43m,\u001b[49m\u001b[43m \u001b[49m\u001b[38;5;241;43m1\u001b[39;49m\u001b[43m)\u001b[49m\u001b[43m)\u001b[49m\u001b[43m,\u001b[49m\n\u001b[0;32m      5\u001b[0m \u001b[43m  \u001b[49m\u001b[43mtf\u001b[49m\u001b[38;5;241;43m.\u001b[39;49m\u001b[43mkeras\u001b[49m\u001b[38;5;241;43m.\u001b[39;49m\u001b[43mlayers\u001b[49m\u001b[38;5;241;43m.\u001b[39;49m\u001b[43mConv2D\u001b[49m\u001b[43m(\u001b[49m\u001b[38;5;241;43m1\u001b[39;49m\u001b[43m,\u001b[49m\u001b[43m \u001b[49m\u001b[43m(\u001b[49m\u001b[38;5;241;43m3\u001b[39;49m\u001b[43m,\u001b[49m\u001b[43m \u001b[49m\u001b[38;5;241;43m3\u001b[39;49m\u001b[43m)\u001b[49m\u001b[43m,\u001b[49m\u001b[43m \u001b[49m\u001b[43mactivation\u001b[49m\u001b[38;5;241;43m=\u001b[39;49m\u001b[38;5;124;43m'\u001b[39;49m\u001b[38;5;124;43mrelu\u001b[39;49m\u001b[38;5;124;43m'\u001b[39;49m\u001b[43m)\u001b[49m\u001b[43m,\u001b[49m\n\u001b[0;32m      6\u001b[0m \u001b[43m  \u001b[49m\u001b[38;5;66;43;03m# Adjust pooling layer if necessary (e.g., pool_size=(1, 1), strides=(1, 1))\u001b[39;49;00m\n\u001b[0;32m      7\u001b[0m \u001b[43m  \u001b[49m\u001b[43mtf\u001b[49m\u001b[38;5;241;43m.\u001b[39;49m\u001b[43mkeras\u001b[49m\u001b[38;5;241;43m.\u001b[39;49m\u001b[43mlayers\u001b[49m\u001b[38;5;241;43m.\u001b[39;49m\u001b[43mMaxPooling2D\u001b[49m\u001b[43m(\u001b[49m\u001b[43mpool_size\u001b[49m\u001b[38;5;241;43m=\u001b[39;49m\u001b[43m(\u001b[49m\u001b[38;5;241;43m1\u001b[39;49m\u001b[43m,\u001b[49m\u001b[43m \u001b[49m\u001b[38;5;241;43m1\u001b[39;49m\u001b[43m)\u001b[49m\u001b[43m,\u001b[49m\u001b[43m \u001b[49m\u001b[43mstrides\u001b[49m\u001b[38;5;241;43m=\u001b[39;49m\u001b[43m(\u001b[49m\u001b[38;5;241;43m1\u001b[39;49m\u001b[43m,\u001b[49m\u001b[43m \u001b[49m\u001b[38;5;241;43m1\u001b[39;49m\u001b[43m)\u001b[49m\u001b[43m)\u001b[49m\u001b[43m,\u001b[49m\u001b[43m  \u001b[49m\u001b[38;5;66;43;03m# Potential adjustment point\u001b[39;49;00m\n\u001b[0;32m      8\u001b[0m \u001b[43m  \u001b[49m\u001b[43mtf\u001b[49m\u001b[38;5;241;43m.\u001b[39;49m\u001b[43mkeras\u001b[49m\u001b[38;5;241;43m.\u001b[39;49m\u001b[43mlayers\u001b[49m\u001b[38;5;241;43m.\u001b[39;49m\u001b[43mConv2D\u001b[49m\u001b[43m(\u001b[49m\u001b[38;5;241;43m1\u001b[39;49m\u001b[43m,\u001b[49m\u001b[43m \u001b[49m\u001b[43m(\u001b[49m\u001b[38;5;241;43m3\u001b[39;49m\u001b[43m,\u001b[49m\u001b[43m \u001b[49m\u001b[38;5;241;43m3\u001b[39;49m\u001b[43m)\u001b[49m\u001b[43m,\u001b[49m\u001b[43m \u001b[49m\u001b[43mactivation\u001b[49m\u001b[38;5;241;43m=\u001b[39;49m\u001b[38;5;124;43m'\u001b[39;49m\u001b[38;5;124;43mrelu\u001b[39;49m\u001b[38;5;124;43m'\u001b[39;49m\u001b[43m)\u001b[49m\u001b[43m,\u001b[49m\n\u001b[0;32m      9\u001b[0m \u001b[43m  \u001b[49m\u001b[43mtf\u001b[49m\u001b[38;5;241;43m.\u001b[39;49m\u001b[43mkeras\u001b[49m\u001b[38;5;241;43m.\u001b[39;49m\u001b[43mlayers\u001b[49m\u001b[38;5;241;43m.\u001b[39;49m\u001b[43mFlatten\u001b[49m\u001b[43m(\u001b[49m\u001b[43m)\u001b[49m\u001b[43m,\u001b[49m\u001b[43m  \u001b[49m\u001b[38;5;66;43;03m# Flatten without invalid arguments\u001b[39;49;00m\n\u001b[0;32m     10\u001b[0m \u001b[43m  \u001b[49m\u001b[43mtf\u001b[49m\u001b[38;5;241;43m.\u001b[39;49m\u001b[43mkeras\u001b[49m\u001b[38;5;241;43m.\u001b[39;49m\u001b[43mlayers\u001b[49m\u001b[38;5;241;43m.\u001b[39;49m\u001b[43mDense\u001b[49m\u001b[43m(\u001b[49m\u001b[43munits\u001b[49m\u001b[38;5;241;43m=\u001b[39;49m\u001b[38;5;241;43m64\u001b[39;49m\u001b[43m,\u001b[49m\u001b[43m \u001b[49m\u001b[43mactivation\u001b[49m\u001b[38;5;241;43m=\u001b[39;49m\u001b[38;5;124;43m'\u001b[39;49m\u001b[38;5;124;43mrelu\u001b[39;49m\u001b[38;5;124;43m'\u001b[39;49m\u001b[43m)\u001b[49m\u001b[43m,\u001b[49m\u001b[43m  \u001b[49m\u001b[38;5;66;43;03m# Specify output size for Dense layer\u001b[39;49;00m\n\u001b[0;32m     11\u001b[0m \u001b[43m  \u001b[49m\u001b[43mtf\u001b[49m\u001b[38;5;241;43m.\u001b[39;49m\u001b[43mkeras\u001b[49m\u001b[38;5;241;43m.\u001b[39;49m\u001b[43mlayers\u001b[49m\u001b[38;5;241;43m.\u001b[39;49m\u001b[43mDense\u001b[49m\u001b[43m(\u001b[49m\u001b[43munits\u001b[49m\u001b[38;5;241;43m=\u001b[39;49m\u001b[38;5;241;43m10\u001b[39;49m\u001b[43m)\u001b[49m\u001b[43m  \u001b[49m\u001b[38;5;66;43;03m# Example output size (adjust as needed)\u001b[39;49;00m\n\u001b[0;32m     12\u001b[0m \u001b[43m]\u001b[49m\u001b[43m)\u001b[49m\n",
      "File \u001b[1;32mc:\\Python310\\cv\\lib\\site-packages\\tensorflow\\python\\training\\tracking\\base.py:587\u001b[0m, in \u001b[0;36mno_automatic_dependency_tracking.<locals>._method_wrapper\u001b[1;34m(self, *args, **kwargs)\u001b[0m\n\u001b[0;32m    585\u001b[0m \u001b[38;5;28mself\u001b[39m\u001b[38;5;241m.\u001b[39m_self_setattr_tracking \u001b[38;5;241m=\u001b[39m \u001b[38;5;28;01mFalse\u001b[39;00m  \u001b[38;5;66;03m# pylint: disable=protected-access\u001b[39;00m\n\u001b[0;32m    586\u001b[0m \u001b[38;5;28;01mtry\u001b[39;00m:\n\u001b[1;32m--> 587\u001b[0m   result \u001b[38;5;241m=\u001b[39m method(\u001b[38;5;28mself\u001b[39m, \u001b[38;5;241m*\u001b[39margs, \u001b[38;5;241m*\u001b[39m\u001b[38;5;241m*\u001b[39mkwargs)\n\u001b[0;32m    588\u001b[0m \u001b[38;5;28;01mfinally\u001b[39;00m:\n\u001b[0;32m    589\u001b[0m   \u001b[38;5;28mself\u001b[39m\u001b[38;5;241m.\u001b[39m_self_setattr_tracking \u001b[38;5;241m=\u001b[39m previous_value  \u001b[38;5;66;03m# pylint: disable=protected-access\u001b[39;00m\n",
      "File \u001b[1;32mc:\\Python310\\cv\\lib\\site-packages\\keras\\utils\\traceback_utils.py:67\u001b[0m, in \u001b[0;36mfilter_traceback.<locals>.error_handler\u001b[1;34m(*args, **kwargs)\u001b[0m\n\u001b[0;32m     65\u001b[0m \u001b[38;5;28;01mexcept\u001b[39;00m \u001b[38;5;167;01mException\u001b[39;00m \u001b[38;5;28;01mas\u001b[39;00m e:  \u001b[38;5;66;03m# pylint: disable=broad-except\u001b[39;00m\n\u001b[0;32m     66\u001b[0m   filtered_tb \u001b[38;5;241m=\u001b[39m _process_traceback_frames(e\u001b[38;5;241m.\u001b[39m__traceback__)\n\u001b[1;32m---> 67\u001b[0m   \u001b[38;5;28;01mraise\u001b[39;00m e\u001b[38;5;241m.\u001b[39mwith_traceback(filtered_tb) \u001b[38;5;28;01mfrom\u001b[39;00m \u001b[38;5;28mNone\u001b[39m\n\u001b[0;32m     68\u001b[0m \u001b[38;5;28;01mfinally\u001b[39;00m:\n\u001b[0;32m     69\u001b[0m   \u001b[38;5;28;01mdel\u001b[39;00m filtered_tb\n",
      "File \u001b[1;32mc:\\Python310\\cv\\lib\\site-packages\\tensorflow\\python\\framework\\ops.py:1963\u001b[0m, in \u001b[0;36m_create_c_op\u001b[1;34m(graph, node_def, inputs, control_inputs, op_def)\u001b[0m\n\u001b[0;32m   1960\u001b[0m   c_op \u001b[38;5;241m=\u001b[39m pywrap_tf_session\u001b[38;5;241m.\u001b[39mTF_FinishOperation(op_desc)\n\u001b[0;32m   1961\u001b[0m \u001b[38;5;28;01mexcept\u001b[39;00m errors\u001b[38;5;241m.\u001b[39mInvalidArgumentError \u001b[38;5;28;01mas\u001b[39;00m e:\n\u001b[0;32m   1962\u001b[0m   \u001b[38;5;66;03m# Convert to ValueError for backwards compatibility.\u001b[39;00m\n\u001b[1;32m-> 1963\u001b[0m   \u001b[38;5;28;01mraise\u001b[39;00m \u001b[38;5;167;01mValueError\u001b[39;00m(e\u001b[38;5;241m.\u001b[39mmessage)\n\u001b[0;32m   1965\u001b[0m \u001b[38;5;28;01mreturn\u001b[39;00m c_op\n",
      "\u001b[1;31mValueError\u001b[0m: Exception encountered when calling layer \"conv2d_20\" (type Conv2D).\n\nNegative dimension size caused by subtracting 3 from 2 for '{{node conv2d_20/Conv2D}} = Conv2D[T=DT_FLOAT, data_format=\"NHWC\", dilations=[1, 1, 1, 1], explicit_paddings=[], padding=\"VALID\", strides=[1, 1, 1, 1], use_cudnn_on_gpu=true](Placeholder, conv2d_20/Conv2D/ReadVariableOp)' with input shapes: [?,423,2,1], [3,3,1,1].\n\nCall arguments received by layer \"conv2d_20\" (type Conv2D):\n  • inputs=tf.Tensor(shape=(None, 423, 2, 1), dtype=float32)"
     ]
    }
   ],
   "source": [
    "import tensorflow as tf\n",
    "\n",
    "model = tf.keras.Sequential([\n",
    "  tf.keras.Input(shape=(425, 4, 1)),\n",
    "  tf.keras.layers.Conv2D(1, (3, 3), activation='relu'),\n",
    "  # Adjust pooling layer if necessary (e.g., pool_size=(1, 1), strides=(1, 1))\n",
    "  tf.keras.layers.MaxPooling2D(pool_size=(1, 1), strides=(1, 1)),  # Potential adjustment point\n",
    "  tf.keras.layers.Conv2D(1, (3, 3), activation='relu'),\n",
    "  tf.keras.layers.Flatten(),  # Flatten without invalid arguments\n",
    "  tf.keras.layers.Dense(units=64, activation='relu'),  # Specify output size for Dense layer\n",
    "  tf.keras.layers.Dense(units=10)  # Example output size (adjust as needed)\n",
    "])\n",
    "\n",
    "# Compile the model (optimizer, loss function, metrics\n"
   ]
  },
  {
   "cell_type": "code",
   "execution_count": 86,
   "metadata": {},
   "outputs": [
    {
     "ename": "ValueError",
     "evalue": "Exception encountered when calling layer \"conv2d_16\" (type Conv2D).\n\nNegative dimension size caused by subtracting 3 from 2 for '{{node conv2d_16/Conv2D}} = Conv2D[T=DT_FLOAT, data_format=\"NHWC\", dilations=[1, 1, 1, 1], explicit_paddings=[], padding=\"VALID\", strides=[1, 1, 1, 1], use_cudnn_on_gpu=true](Placeholder, conv2d_16/Conv2D/ReadVariableOp)' with input shapes: [?,423,2,1], [3,3,1,1].\n\nCall arguments received by layer \"conv2d_16\" (type Conv2D):\n  • inputs=tf.Tensor(shape=(None, 423, 2, 1), dtype=float32)",
     "output_type": "error",
     "traceback": [
      "\u001b[1;31m---------------------------------------------------------------------------\u001b[0m",
      "\u001b[1;31mValueError\u001b[0m                                Traceback (most recent call last)",
      "Input \u001b[1;32mIn [86]\u001b[0m, in \u001b[0;36m<module>\u001b[1;34m\u001b[0m\n\u001b[0;32m      3\u001b[0m model\u001b[38;5;241m.\u001b[39madd(layers\u001b[38;5;241m.\u001b[39mConv2D(\u001b[38;5;241m1\u001b[39m,(\u001b[38;5;241m3\u001b[39m, \u001b[38;5;241m3\u001b[39m), activation\u001b[38;5;241m=\u001b[39m\u001b[38;5;124m'\u001b[39m\u001b[38;5;124mrelu\u001b[39m\u001b[38;5;124m'\u001b[39m))\n\u001b[0;32m      4\u001b[0m \u001b[38;5;66;03m#model.add(layers.MaxPooling2D(pool_size=(2, 2), strides=(2, 2)))\u001b[39;00m\n\u001b[1;32m----> 5\u001b[0m \u001b[43mmodel\u001b[49m\u001b[38;5;241;43m.\u001b[39;49m\u001b[43madd\u001b[49m\u001b[43m(\u001b[49m\u001b[43mlayers\u001b[49m\u001b[38;5;241;43m.\u001b[39;49m\u001b[43mConv2D\u001b[49m\u001b[43m(\u001b[49m\u001b[38;5;241;43m1\u001b[39;49m\u001b[43m,\u001b[49m\u001b[43m(\u001b[49m\u001b[38;5;241;43m3\u001b[39;49m\u001b[43m,\u001b[49m\u001b[43m \u001b[49m\u001b[38;5;241;43m3\u001b[39;49m\u001b[43m)\u001b[49m\u001b[43m,\u001b[49m\u001b[43m \u001b[49m\u001b[43mactivation\u001b[49m\u001b[38;5;241;43m=\u001b[39;49m\u001b[38;5;124;43m'\u001b[39;49m\u001b[38;5;124;43mrelu\u001b[39;49m\u001b[38;5;124;43m'\u001b[39;49m\u001b[43m)\u001b[49m\u001b[43m)\u001b[49m\n\u001b[0;32m      7\u001b[0m model\u001b[38;5;241m.\u001b[39madd(layers\u001b[38;5;241m.\u001b[39mFlatten(\u001b[38;5;241m64\u001b[39m, (\u001b[38;5;241m3\u001b[39m, \u001b[38;5;241m3\u001b[39m), activation\u001b[38;5;241m=\u001b[39m\u001b[38;5;124m'\u001b[39m\u001b[38;5;124mrelu\u001b[39m\u001b[38;5;124m'\u001b[39m))\n\u001b[0;32m      9\u001b[0m model\u001b[38;5;241m.\u001b[39madd(layers\u001b[38;5;241m.\u001b[39mDense())\n",
      "File \u001b[1;32mc:\\Python310\\cv\\lib\\site-packages\\tensorflow\\python\\training\\tracking\\base.py:587\u001b[0m, in \u001b[0;36mno_automatic_dependency_tracking.<locals>._method_wrapper\u001b[1;34m(self, *args, **kwargs)\u001b[0m\n\u001b[0;32m    585\u001b[0m \u001b[38;5;28mself\u001b[39m\u001b[38;5;241m.\u001b[39m_self_setattr_tracking \u001b[38;5;241m=\u001b[39m \u001b[38;5;28;01mFalse\u001b[39;00m  \u001b[38;5;66;03m# pylint: disable=protected-access\u001b[39;00m\n\u001b[0;32m    586\u001b[0m \u001b[38;5;28;01mtry\u001b[39;00m:\n\u001b[1;32m--> 587\u001b[0m   result \u001b[38;5;241m=\u001b[39m method(\u001b[38;5;28mself\u001b[39m, \u001b[38;5;241m*\u001b[39margs, \u001b[38;5;241m*\u001b[39m\u001b[38;5;241m*\u001b[39mkwargs)\n\u001b[0;32m    588\u001b[0m \u001b[38;5;28;01mfinally\u001b[39;00m:\n\u001b[0;32m    589\u001b[0m   \u001b[38;5;28mself\u001b[39m\u001b[38;5;241m.\u001b[39m_self_setattr_tracking \u001b[38;5;241m=\u001b[39m previous_value  \u001b[38;5;66;03m# pylint: disable=protected-access\u001b[39;00m\n",
      "File \u001b[1;32mc:\\Python310\\cv\\lib\\site-packages\\keras\\utils\\traceback_utils.py:67\u001b[0m, in \u001b[0;36mfilter_traceback.<locals>.error_handler\u001b[1;34m(*args, **kwargs)\u001b[0m\n\u001b[0;32m     65\u001b[0m \u001b[38;5;28;01mexcept\u001b[39;00m \u001b[38;5;167;01mException\u001b[39;00m \u001b[38;5;28;01mas\u001b[39;00m e:  \u001b[38;5;66;03m# pylint: disable=broad-except\u001b[39;00m\n\u001b[0;32m     66\u001b[0m   filtered_tb \u001b[38;5;241m=\u001b[39m _process_traceback_frames(e\u001b[38;5;241m.\u001b[39m__traceback__)\n\u001b[1;32m---> 67\u001b[0m   \u001b[38;5;28;01mraise\u001b[39;00m e\u001b[38;5;241m.\u001b[39mwith_traceback(filtered_tb) \u001b[38;5;28;01mfrom\u001b[39;00m \u001b[38;5;28mNone\u001b[39m\n\u001b[0;32m     68\u001b[0m \u001b[38;5;28;01mfinally\u001b[39;00m:\n\u001b[0;32m     69\u001b[0m   \u001b[38;5;28;01mdel\u001b[39;00m filtered_tb\n",
      "File \u001b[1;32mc:\\Python310\\cv\\lib\\site-packages\\tensorflow\\python\\framework\\ops.py:1963\u001b[0m, in \u001b[0;36m_create_c_op\u001b[1;34m(graph, node_def, inputs, control_inputs, op_def)\u001b[0m\n\u001b[0;32m   1960\u001b[0m   c_op \u001b[38;5;241m=\u001b[39m pywrap_tf_session\u001b[38;5;241m.\u001b[39mTF_FinishOperation(op_desc)\n\u001b[0;32m   1961\u001b[0m \u001b[38;5;28;01mexcept\u001b[39;00m errors\u001b[38;5;241m.\u001b[39mInvalidArgumentError \u001b[38;5;28;01mas\u001b[39;00m e:\n\u001b[0;32m   1962\u001b[0m   \u001b[38;5;66;03m# Convert to ValueError for backwards compatibility.\u001b[39;00m\n\u001b[1;32m-> 1963\u001b[0m   \u001b[38;5;28;01mraise\u001b[39;00m \u001b[38;5;167;01mValueError\u001b[39;00m(e\u001b[38;5;241m.\u001b[39mmessage)\n\u001b[0;32m   1965\u001b[0m \u001b[38;5;28;01mreturn\u001b[39;00m c_op\n",
      "\u001b[1;31mValueError\u001b[0m: Exception encountered when calling layer \"conv2d_16\" (type Conv2D).\n\nNegative dimension size caused by subtracting 3 from 2 for '{{node conv2d_16/Conv2D}} = Conv2D[T=DT_FLOAT, data_format=\"NHWC\", dilations=[1, 1, 1, 1], explicit_paddings=[], padding=\"VALID\", strides=[1, 1, 1, 1], use_cudnn_on_gpu=true](Placeholder, conv2d_16/Conv2D/ReadVariableOp)' with input shapes: [?,423,2,1], [3,3,1,1].\n\nCall arguments received by layer \"conv2d_16\" (type Conv2D):\n  • inputs=tf.Tensor(shape=(None, 423, 2, 1), dtype=float32)"
     ]
    }
   ],
   "source": [
    "\n",
    "model = models.Sequential()\n",
    "model.add(layers.Input(shape=(425, 4, 1)))\n",
    "model.add(layers.Conv2D(1,(3, 3), activation='relu'))\n",
    "#model.add(layers.MaxPooling2D(pool_size=(2, 2), strides=(2, 2)))\n",
    "model.add(layers.Conv2D(1,(3, 3), activation='relu'))\n",
    "\n",
    "model.add(layers.Flatten(64, (3, 3), activation='relu'))\n",
    "\n",
    "model.add(layers.Dense())\n",
    "model.add(layers.Dense())\n",
    "\n",
    "print(model.output_shape)"
   ]
  },
  {
   "cell_type": "code",
   "execution_count": 78,
   "metadata": {},
   "outputs": [
    {
     "data": {
      "text/plain": [
       "<function __main__.model_builder()>"
      ]
     },
     "execution_count": 78,
     "metadata": {},
     "output_type": "execute_result"
    }
   ],
   "source": [
    "model_builder"
   ]
  },
  {
   "cell_type": "code",
   "execution_count": 43,
   "metadata": {},
   "outputs": [
    {
     "ename": "TypeError",
     "evalue": "Flatten.__init__() takes from 1 to 2 positional arguments but 3 were given",
     "output_type": "error",
     "traceback": [
      "\u001b[1;31m---------------------------------------------------------------------------\u001b[0m",
      "\u001b[1;31mTypeError\u001b[0m                                 Traceback (most recent call last)",
      "Input \u001b[1;32mIn [43]\u001b[0m, in \u001b[0;36m<module>\u001b[1;34m\u001b[0m\n\u001b[0;32m      4\u001b[0m model\u001b[38;5;241m.\u001b[39madd(layers\u001b[38;5;241m.\u001b[39mConv2D(\u001b[38;5;241m64\u001b[39m, (\u001b[38;5;241m3\u001b[39m, \u001b[38;5;241m3\u001b[39m), activation\u001b[38;5;241m=\u001b[39m\u001b[38;5;124m'\u001b[39m\u001b[38;5;124mrelu\u001b[39m\u001b[38;5;124m'\u001b[39m))\n\u001b[0;32m      5\u001b[0m model\u001b[38;5;241m.\u001b[39madd(layers\u001b[38;5;241m.\u001b[39mDropout((\u001b[38;5;241m2\u001b[39m, \u001b[38;5;241m2\u001b[39m)))\n\u001b[1;32m----> 6\u001b[0m model\u001b[38;5;241m.\u001b[39madd(\u001b[43mlayers\u001b[49m\u001b[38;5;241;43m.\u001b[39;49m\u001b[43mFlatten\u001b[49m\u001b[43m(\u001b[49m\u001b[38;5;241;43m64\u001b[39;49m\u001b[43m,\u001b[49m\u001b[43m \u001b[49m\u001b[43m(\u001b[49m\u001b[38;5;241;43m3\u001b[39;49m\u001b[43m,\u001b[49m\u001b[43m \u001b[49m\u001b[38;5;241;43m3\u001b[39;49m\u001b[43m)\u001b[49m\u001b[43m,\u001b[49m\u001b[43m \u001b[49m\u001b[43mactivation\u001b[49m\u001b[38;5;241;43m=\u001b[39;49m\u001b[38;5;124;43m'\u001b[39;49m\u001b[38;5;124;43mrelu\u001b[39;49m\u001b[38;5;124;43m'\u001b[39;49m\u001b[43m)\u001b[49m)\n\u001b[0;32m      7\u001b[0m model\u001b[38;5;241m.\u001b[39madd(layers\u001b[38;5;241m.\u001b[39mDropout((\u001b[38;5;241m2\u001b[39m, \u001b[38;5;241m2\u001b[39m)))\n\u001b[0;32m      8\u001b[0m model\u001b[38;5;241m.\u001b[39madd(layers\u001b[38;5;241m.\u001b[39mDense((\u001b[38;5;241m2\u001b[39m, \u001b[38;5;241m2\u001b[39m)))\n",
      "\u001b[1;31mTypeError\u001b[0m: Flatten.__init__() takes from 1 to 2 positional arguments but 3 were given"
     ]
    }
   ],
   "source": [
    "model = models.Sequential()\n",
    "model.add(layers.Conv2D(32, (3, 3), activation='relu', input_shape=(32, 425, 4)))\n",
    "model.add(layers.MaxPooling2D((2, 2)))\n",
    "model.add(layers.Conv2D(64, (3, 3), activation='relu'))\n",
    "model.add(layers.Dropout((2, 2)))\n",
    "model.add(layers.Flatten(64, (3, 3), activation='relu'))\n",
    "model.add(layers.Dropout((2, 2)))\n",
    "model.add(layers.Dense((2, 2)))\n",
    "model.add(layers.Dense((2, 2)))"
   ]
  },
  {
   "cell_type": "code",
   "execution_count": null,
   "metadata": {},
   "outputs": [
    {
     "name": "stdout",
     "output_type": "stream",
     "text": [
      "WARNING:tensorflow:Model was constructed with shape (None, 39) for input KerasTensor(type_spec=TensorSpec(shape=(None, 39), dtype=tf.float32, name='input_1'), name='input_1', description=\"created by layer 'input_1'\"), but it was called on an input with incompatible shape (None,).\n"
     ]
    },
    {
     "ename": "ValueError",
     "evalue": "in user code:\n\n    File \"c:\\Python310\\cv\\lib\\site-packages\\keras\\engine\\training.py\", line 1845, in predict_function  *\n        return step_function(self, iterator)\n    File \"c:\\Python310\\cv\\lib\\site-packages\\keras\\engine\\training.py\", line 1834, in step_function  **\n        outputs = model.distribute_strategy.run(run_step, args=(data,))\n    File \"c:\\Python310\\cv\\lib\\site-packages\\keras\\engine\\training.py\", line 1823, in run_step  **\n        outputs = model.predict_step(data)\n    File \"c:\\Python310\\cv\\lib\\site-packages\\keras\\engine\\training.py\", line 1791, in predict_step\n        return self(x, training=False)\n    File \"c:\\Python310\\cv\\lib\\site-packages\\keras\\utils\\traceback_utils.py\", line 67, in error_handler\n        raise e.with_traceback(filtered_tb) from None\n    File \"c:\\Python310\\cv\\lib\\site-packages\\keras\\engine\\input_spec.py\", line 228, in assert_input_compatibility\n        raise ValueError(f'Input {input_index} of layer \"{layer_name}\" '\n\n    ValueError: Exception encountered when calling layer \"model\" (type Functional).\n    \n    Input 0 of layer \"dense\" is incompatible with the layer: expected min_ndim=2, found ndim=1. Full shape received: (None,)\n    \n    Call arguments received by layer \"model\" (type Functional):\n      • inputs=tf.Tensor(shape=(None,), dtype=float32)\n      • training=False\n      • mask=None\n",
     "output_type": "error",
     "traceback": [
      "\u001b[1;31m---------------------------------------------------------------------------\u001b[0m",
      "\u001b[1;31mValueError\u001b[0m                                Traceback (most recent call last)",
      "Input \u001b[1;32mIn [20]\u001b[0m, in \u001b[0;36m<module>\u001b[1;34m\u001b[0m\n\u001b[0;32m      1\u001b[0m model \u001b[38;5;241m=\u001b[39m keras\u001b[38;5;241m.\u001b[39mmodels\u001b[38;5;241m.\u001b[39mload_model(\u001b[38;5;124mr\u001b[39m\u001b[38;5;124m\"\u001b[39m\u001b[38;5;124mC:\u001b[39m\u001b[38;5;124m\\\u001b[39m\u001b[38;5;124mUsers\u001b[39m\u001b[38;5;124m\\\u001b[39m\u001b[38;5;124mASUS\u001b[39m\u001b[38;5;124m\\\u001b[39m\u001b[38;5;124mDownloads\u001b[39m\u001b[38;5;124m\\\u001b[39m\u001b[38;5;124mmodel-dense.h5\u001b[39m\u001b[38;5;124m\"\u001b[39m)\n\u001b[1;32m----> 2\u001b[0m \u001b[43mmodel\u001b[49m\u001b[38;5;241;43m.\u001b[39;49m\u001b[43mpredict\u001b[49m\u001b[43m(\u001b[49m\u001b[43mX_train\u001b[49m\u001b[43m[\u001b[49m\u001b[38;5;241;43m0\u001b[39;49m\u001b[43m]\u001b[49m\u001b[43m)\u001b[49m\n",
      "File \u001b[1;32mc:\\Python310\\cv\\lib\\site-packages\\keras\\utils\\traceback_utils.py:67\u001b[0m, in \u001b[0;36mfilter_traceback.<locals>.error_handler\u001b[1;34m(*args, **kwargs)\u001b[0m\n\u001b[0;32m     65\u001b[0m \u001b[38;5;28;01mexcept\u001b[39;00m \u001b[38;5;167;01mException\u001b[39;00m \u001b[38;5;28;01mas\u001b[39;00m e:  \u001b[38;5;66;03m# pylint: disable=broad-except\u001b[39;00m\n\u001b[0;32m     66\u001b[0m   filtered_tb \u001b[38;5;241m=\u001b[39m _process_traceback_frames(e\u001b[38;5;241m.\u001b[39m__traceback__)\n\u001b[1;32m---> 67\u001b[0m   \u001b[38;5;28;01mraise\u001b[39;00m e\u001b[38;5;241m.\u001b[39mwith_traceback(filtered_tb) \u001b[38;5;28;01mfrom\u001b[39;00m \u001b[38;5;28mNone\u001b[39m\n\u001b[0;32m     68\u001b[0m \u001b[38;5;28;01mfinally\u001b[39;00m:\n\u001b[0;32m     69\u001b[0m   \u001b[38;5;28;01mdel\u001b[39;00m filtered_tb\n",
      "File \u001b[1;32m~\\AppData\\Local\\Temp\\__autograph_generated_filesc4xzx22.py:15\u001b[0m, in \u001b[0;36mouter_factory.<locals>.inner_factory.<locals>.tf__predict_function\u001b[1;34m(iterator)\u001b[0m\n\u001b[0;32m     13\u001b[0m \u001b[38;5;28;01mtry\u001b[39;00m:\n\u001b[0;32m     14\u001b[0m     do_return \u001b[38;5;241m=\u001b[39m \u001b[38;5;28;01mTrue\u001b[39;00m\n\u001b[1;32m---> 15\u001b[0m     retval_ \u001b[38;5;241m=\u001b[39m ag__\u001b[38;5;241m.\u001b[39mconverted_call(ag__\u001b[38;5;241m.\u001b[39mld(step_function), (ag__\u001b[38;5;241m.\u001b[39mld(\u001b[38;5;28mself\u001b[39m), ag__\u001b[38;5;241m.\u001b[39mld(iterator)), \u001b[38;5;28;01mNone\u001b[39;00m, fscope)\n\u001b[0;32m     16\u001b[0m \u001b[38;5;28;01mexcept\u001b[39;00m:\n\u001b[0;32m     17\u001b[0m     do_return \u001b[38;5;241m=\u001b[39m \u001b[38;5;28;01mFalse\u001b[39;00m\n",
      "\u001b[1;31mValueError\u001b[0m: in user code:\n\n    File \"c:\\Python310\\cv\\lib\\site-packages\\keras\\engine\\training.py\", line 1845, in predict_function  *\n        return step_function(self, iterator)\n    File \"c:\\Python310\\cv\\lib\\site-packages\\keras\\engine\\training.py\", line 1834, in step_function  **\n        outputs = model.distribute_strategy.run(run_step, args=(data,))\n    File \"c:\\Python310\\cv\\lib\\site-packages\\keras\\engine\\training.py\", line 1823, in run_step  **\n        outputs = model.predict_step(data)\n    File \"c:\\Python310\\cv\\lib\\site-packages\\keras\\engine\\training.py\", line 1791, in predict_step\n        return self(x, training=False)\n    File \"c:\\Python310\\cv\\lib\\site-packages\\keras\\utils\\traceback_utils.py\", line 67, in error_handler\n        raise e.with_traceback(filtered_tb) from None\n    File \"c:\\Python310\\cv\\lib\\site-packages\\keras\\engine\\input_spec.py\", line 228, in assert_input_compatibility\n        raise ValueError(f'Input {input_index} of layer \"{layer_name}\" '\n\n    ValueError: Exception encountered when calling layer \"model\" (type Functional).\n    \n    Input 0 of layer \"dense\" is incompatible with the layer: expected min_ndim=2, found ndim=1. Full shape received: (None,)\n    \n    Call arguments received by layer \"model\" (type Functional):\n      • inputs=tf.Tensor(shape=(None,), dtype=float32)\n      • training=False\n      • mask=None\n"
     ]
    }
   ],
   "source": [
    "model = keras.models.load_model(r\"C:\\Users\\ASUS\\Downloads\\model-dense.h5\")\n",
    "model.predict(X_train[0])\n"
   ]
  },
  {
   "cell_type": "code",
   "execution_count": null,
   "metadata": {},
   "outputs": [
    {
     "name": "stdout",
     "output_type": "stream",
     "text": [
      "Model: \"model\"\n",
      "_________________________________________________________________\n",
      " Layer (type)                Output Shape              Param #   \n",
      "=================================================================\n",
      " input_1 (InputLayer)        [(None, 39)]              0         \n",
      "                                                                 \n",
      " dense (Dense)               (None, 128)               5120      \n",
      "                                                                 \n",
      " dense_1 (Dense)             (None, 1)                 129       \n",
      "                                                                 \n",
      "=================================================================\n",
      "Total params: 5,249\n",
      "Trainable params: 5,249\n",
      "Non-trainable params: 0\n",
      "_________________________________________________________________\n"
     ]
    }
   ],
   "source": [
    "model.summary()"
   ]
  }
 ],
 "metadata": {
  "kernelspec": {
   "display_name": "cv",
   "language": "python",
   "name": "python3"
  },
  "language_info": {
   "codemirror_mode": {
    "name": "ipython",
    "version": 3
   },
   "file_extension": ".py",
   "mimetype": "text/x-python",
   "name": "python",
   "nbconvert_exporter": "python",
   "pygments_lexer": "ipython3",
   "version": "3.10.2"
  }
 },
 "nbformat": 4,
 "nbformat_minor": 2
}
