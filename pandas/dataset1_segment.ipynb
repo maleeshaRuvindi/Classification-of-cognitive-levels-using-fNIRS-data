{
 "cells": [
  {
   "cell_type": "code",
   "execution_count": 3,
   "metadata": {},
   "outputs": [],
   "source": [
    "import os\n",
    "import pandas as pd\n",
    "import numpy as np\n",
    "import matplotlib.pyplot as plt\n",
    "from scipy.signal import savgol_filter"
   ]
  },
  {
   "cell_type": "code",
   "execution_count": 4,
   "metadata": {},
   "outputs": [
    {
     "name": "stdout",
     "output_type": "stream",
     "text": [
      "['sub_1.csv', 'sub_13.csv', 'sub_14.csv', 'sub_15.csv', 'sub_20.csv', 'sub_21.csv', 'sub_22.csv', 'sub_23.csv', 'sub_24.csv', 'sub_25.csv', 'sub_27.csv', 'sub_28.csv', 'sub_29.csv', 'sub_31.csv', 'sub_32.csv', 'sub_34.csv', 'sub_35.csv', 'sub_36.csv', 'sub_37.csv', 'sub_38.csv', 'sub_40.csv', 'sub_42.csv', 'sub_43.csv', 'sub_44.csv', 'sub_45.csv', 'sub_46.csv', 'sub_47.csv', 'sub_48.csv', 'sub_49.csv', 'sub_5.csv', 'sub_51.csv', 'sub_52.csv', 'sub_54.csv', 'sub_55.csv', 'sub_56.csv', 'sub_57.csv', 'sub_58.csv', 'sub_60.csv', 'sub_61.csv', 'sub_62.csv', 'sub_63.csv', 'sub_64.csv', 'sub_65.csv', 'sub_68.csv', 'sub_69.csv', 'sub_7.csv', 'sub_70.csv', 'sub_71.csv', 'sub_72.csv', 'sub_73.csv', 'sub_74.csv', 'sub_75.csv', 'sub_76.csv', 'sub_78.csv', 'sub_79.csv', 'sub_80.csv', 'sub_81.csv', 'sub_82.csv', 'sub_83.csv', 'sub_84.csv', 'sub_85.csv', 'sub_86.csv', 'sub_91.csv', 'sub_92.csv', 'sub_93.csv', 'sub_94.csv', 'sub_95.csv', 'sub_97.csv']\n"
     ]
    }
   ],
   "source": [
    "path = \"D:\\FYP\\Datasets\\dataset1\\experiment\\\\fNIRS_data\\\\band_pass_filtered\\whole_data\"\n",
    "file_list = [f for f in os.listdir(path) if os.path.isfile(os.path.join(path, f))]\n",
    "print(file_list)\n",
    "k=0\n"
   ]
  },
  {
   "cell_type": "code",
   "execution_count": 5,
   "metadata": {},
   "outputs": [],
   "source": [
    "def create(file_path,sub):\n",
    "    df = pd.read_csv(file_path)\n",
    "    df=df.drop(['AB_PHI_O'],axis=1)\n",
    "    df=df.drop(['AB_PHI_DO'],axis=1)\n",
    "    df=df.drop(['CD_PHI_O'],axis=1)\n",
    "    df=df.drop(['CD_PHI_DO'],axis=1)\n",
    "    n_rows=len(df['label'])\n",
    "    label=df['label'][0]\n",
    "    start=0\n",
    "    j=1\n",
    "    oxy=pd.DataFrame()\n",
    "    deoxy=pd.DataFrame()\n",
    "    for i in range(0,n_rows):#loop through all rows\n",
    "        if df['label'][i]!=label or i==n_rows-1:#finding the begining of next block\n",
    "            #if i==n_rows-1:i=i+1\n",
    "            newdf=df.iloc[start:i]#breaking previous block\n",
    "            #print(newdf.columns)\n",
    "            for channel in range(4):\n",
    "                x=newdf.iloc[:,channel]\n",
    "                y=savgol_filter(x, 121, 3)\n",
    "                baseline_mean=np.mean(y)\n",
    "                y=y-baseline_mean\n",
    "            #print(newdf.columns)\n",
    "            oxy=pd.concat([newdf['AB_I_O'],newdf['CD_I_O']],axis=1)\n",
    "            deoxy=pd.concat([newdf['AB_I_DO'],newdf['CD_I_DO']],axis=1)\n",
    "            oxyfile='D:\\FYP\\Datasets\\dataset1_segmented\\\\'+sub+'_'+str(j)+'_oxy_'+str(label)+'.csv'\n",
    "            \n",
    "            deoxyfile='D:\\FYP\\Datasets\\dataset1_segmented\\\\'+sub+'_'+str(j)+'_deoxy_'+str(label)+'.csv'\n",
    "            oxy.to_csv(oxyfile)\n",
    "            deoxy.to_csv(deoxyfile)\n",
    "            oxy=pd.DataFrame()\n",
    "            deoxy=pd.DataFrame()\n",
    "            start=i#start of next block\n",
    "            label=df['label'][start]\n",
    "            j=j+1\n",
    "            \n",
    "    return\n",
    "    #print(feature_df)\n",
    "    #print(j)"
   ]
  },
  {
   "cell_type": "code",
   "execution_count": 6,
   "metadata": {},
   "outputs": [],
   "source": [
    "sub=''\n",
    "\n",
    "for files in file_list:\n",
    "    file_path=path+'\\\\'+files\n",
    "    sub=files[:-4]\n",
    "    create(file_path,sub)"
   ]
  },
  {
   "cell_type": "code",
   "execution_count": 8,
   "metadata": {},
   "outputs": [
    {
     "name": "stdout",
     "output_type": "stream",
     "text": [
      "1088.0\n"
     ]
    }
   ],
   "source": [
    "path = \"D:\\FYP\\Datasets\\dataset1_segmented\"\n",
    "file_list = [f for f in os.listdir(path) if os.path.isfile(os.path.join(path, f))]\n",
    "print(len(file_list)/2)"
   ]
  },
  {
   "cell_type": "code",
   "execution_count": 15,
   "metadata": {},
   "outputs": [
    {
     "name": "stdout",
     "output_type": "stream",
     "text": [
      "Index(['AB_I_O', 'AB_I_DO', 'CD_I_O', 'CD_I_DO', 'label'], dtype='object')\n",
      "Index(['AB_I_O', 'AB_I_DO', 'CD_I_O', 'CD_I_DO', 'label'], dtype='object')\n",
      "Index(['AB_I_O', 'AB_I_DO', 'CD_I_O', 'CD_I_DO', 'label'], dtype='object')\n",
      "Index(['AB_I_O', 'AB_I_DO', 'CD_I_O', 'CD_I_DO', 'label'], dtype='object')\n",
      "Index(['AB_I_O', 'AB_I_DO', 'CD_I_O', 'CD_I_DO', 'label'], dtype='object')\n",
      "Index(['AB_I_O', 'AB_I_DO', 'CD_I_O', 'CD_I_DO', 'label'], dtype='object')\n",
      "Index(['AB_I_O', 'AB_I_DO', 'CD_I_O', 'CD_I_DO', 'label'], dtype='object')\n",
      "Index(['AB_I_O', 'AB_I_DO', 'CD_I_O', 'CD_I_DO', 'label'], dtype='object')\n",
      "Index(['AB_I_O', 'AB_I_DO', 'CD_I_O', 'CD_I_DO', 'label'], dtype='object')\n",
      "Index(['AB_I_O', 'AB_I_DO', 'CD_I_O', 'CD_I_DO', 'label'], dtype='object')\n",
      "Index(['AB_I_O', 'AB_I_DO', 'CD_I_O', 'CD_I_DO', 'label'], dtype='object')\n",
      "Index(['AB_I_O', 'AB_I_DO', 'CD_I_O', 'CD_I_DO', 'label'], dtype='object')\n",
      "Index(['AB_I_O', 'AB_I_DO', 'CD_I_O', 'CD_I_DO', 'label'], dtype='object')\n",
      "Index(['AB_I_O', 'AB_I_DO', 'CD_I_O', 'CD_I_DO', 'label'], dtype='object')\n",
      "Index(['AB_I_O', 'AB_I_DO', 'CD_I_O', 'CD_I_DO', 'label'], dtype='object')\n",
      "Index(['AB_I_O', 'AB_I_DO', 'CD_I_O', 'CD_I_DO', 'label'], dtype='object')\n",
      "Index(['AB_I_O', 'AB_I_DO', 'CD_I_O', 'CD_I_DO', 'label'], dtype='object')\n",
      "Index(['AB_I_O', 'AB_I_DO', 'CD_I_O', 'CD_I_DO', 'label'], dtype='object')\n",
      "Index(['AB_I_O', 'AB_I_DO', 'CD_I_O', 'CD_I_DO', 'label'], dtype='object')\n",
      "Index(['AB_I_O', 'AB_I_DO', 'CD_I_O', 'CD_I_DO', 'label'], dtype='object')\n",
      "Index(['AB_I_O', 'AB_I_DO', 'CD_I_O', 'CD_I_DO', 'label'], dtype='object')\n",
      "Index(['AB_I_O', 'AB_I_DO', 'CD_I_O', 'CD_I_DO', 'label'], dtype='object')\n",
      "Index(['AB_I_O', 'AB_I_DO', 'CD_I_O', 'CD_I_DO', 'label'], dtype='object')\n",
      "Index(['AB_I_O', 'AB_I_DO', 'CD_I_O', 'CD_I_DO', 'label'], dtype='object')\n",
      "Index(['AB_I_O', 'AB_I_DO', 'CD_I_O', 'CD_I_DO', 'label'], dtype='object')\n",
      "Index(['AB_I_O', 'AB_I_DO', 'CD_I_O', 'CD_I_DO', 'label'], dtype='object')\n",
      "Index(['AB_I_O', 'AB_I_DO', 'CD_I_O', 'CD_I_DO', 'label'], dtype='object')\n",
      "Index(['AB_I_O', 'AB_I_DO', 'CD_I_O', 'CD_I_DO', 'label'], dtype='object')\n",
      "Index(['AB_I_O', 'AB_I_DO', 'CD_I_O', 'CD_I_DO', 'label'], dtype='object')\n",
      "Index(['AB_I_O', 'AB_I_DO', 'CD_I_O', 'CD_I_DO', 'label'], dtype='object')\n",
      "Index(['AB_I_O', 'AB_I_DO', 'CD_I_O', 'CD_I_DO', 'label'], dtype='object')\n",
      "Index(['AB_I_O', 'AB_I_DO', 'CD_I_O', 'CD_I_DO', 'label'], dtype='object')\n"
     ]
    }
   ],
   "source": [
    "file_path=path+'\\\\'+'sub_1.csv'\n",
    "create(file_path)"
   ]
  }
 ],
 "metadata": {
  "kernelspec": {
   "display_name": "cv",
   "language": "python",
   "name": "python3"
  },
  "language_info": {
   "codemirror_mode": {
    "name": "ipython",
    "version": 3
   },
   "file_extension": ".py",
   "mimetype": "text/x-python",
   "name": "python",
   "nbconvert_exporter": "python",
   "pygments_lexer": "ipython3",
   "version": "3.10.2"
  }
 },
 "nbformat": 4,
 "nbformat_minor": 2
}
