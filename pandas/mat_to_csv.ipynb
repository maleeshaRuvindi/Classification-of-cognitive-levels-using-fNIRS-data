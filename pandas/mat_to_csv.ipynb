{
 "cells": [
  {
   "cell_type": "code",
   "execution_count": 728,
   "metadata": {},
   "outputs": [],
   "source": [
    "import scipy.io as sio\n",
    "import pandas as pd"
   ]
  },
  {
   "cell_type": "code",
   "execution_count": 729,
   "metadata": {},
   "outputs": [],
   "source": [
    "participant='25'\n",
    "mat_file='D:\\FYP\\Datasets\\dataset2\\VP0'+participant+'-NIRS\\cnt_nback.mat'\n",
    "csv_file='D:\\FYP\\Datasets\\dataset2_csv\\oxy\\oxy_'+participant+'.csv'\n"
   ]
  },
  {
   "cell_type": "code",
   "execution_count": 730,
   "metadata": {},
   "outputs": [],
   "source": [
    "mat_data = sio.loadmat(mat_file)"
   ]
  },
  {
   "cell_type": "code",
   "execution_count": 731,
   "metadata": {},
   "outputs": [],
   "source": [
    "#my_data = mat_data['my_variable']  # For a variable\n",
    "my_data = mat_data['cnt_nback']['oxy'] # For a structure"
   ]
  },
  {
   "cell_type": "code",
   "execution_count": 732,
   "metadata": {},
   "outputs": [],
   "source": [
    "df = pd.DataFrame(my_data)"
   ]
  },
  {
   "cell_type": "code",
   "execution_count": 733,
   "metadata": {},
   "outputs": [
    {
     "data": {
      "text/plain": [
       "(1,)"
      ]
     },
     "execution_count": 733,
     "metadata": {},
     "output_type": "execute_result"
    }
   ],
   "source": [
    "df[0].shape"
   ]
  },
  {
   "cell_type": "code",
   "execution_count": 734,
   "metadata": {},
   "outputs": [
    {
     "name": "stdout",
     "output_type": "stream",
     "text": [
      "0    [[[[[10]], [[16]], [[16]], ['single'], [[array...\n",
      "Name: 0, dtype: object\n",
      "1\n"
     ]
    }
   ],
   "source": [
    "print(df[0])\n",
    "print(len(df[0]))"
   ]
  },
  {
   "cell_type": "code",
   "execution_count": 735,
   "metadata": {},
   "outputs": [
    {
     "name": "stdout",
     "output_type": "stream",
     "text": [
      "[[(array([[10]], dtype=uint8), array([[16]], dtype=uint8), array([[16]], dtype=uint8), array(['single'], dtype='<U6'), array([[array(['AF7'], dtype='<U3'), array(['AFF5'], dtype='<U4'),\n",
      "          array(['AFp7'], dtype='<U4'), array(['AF5h'], dtype='<U4'),\n",
      "          array(['AFp3'], dtype='<U4'), array(['AFF3h'], dtype='<U5'),\n",
      "          array(['AF1'], dtype='<U3'), array(['AFFz'], dtype='<U4'),\n",
      "          array(['AFpz'], dtype='<U4'), array(['AF2'], dtype='<U3'),\n",
      "          array(['AFp4'], dtype='<U4'), array(['FCC3'], dtype='<U4'),\n",
      "          array(['C3h'], dtype='<U3'), array(['C5h'], dtype='<U3'),\n",
      "          array(['CCP3'], dtype='<U4'), array(['CPP3'], dtype='<U4'),\n",
      "          array(['P3h'], dtype='<U3'), array(['P5h'], dtype='<U3'),\n",
      "          array(['PPO3'], dtype='<U4'), array(['AFF4h'], dtype='<U5'),\n",
      "          array(['AF6h'], dtype='<U4'), array(['AFF6'], dtype='<U4'),\n",
      "          array(['AFp8'], dtype='<U4'), array(['AF8'], dtype='<U3'),\n",
      "          array(['FCC4'], dtype='<U4'), array(['C6h'], dtype='<U3'),\n",
      "          array(['C4h'], dtype='<U3'), array(['CCP4'], dtype='<U4'),\n",
      "          array(['CPP4'], dtype='<U4'), array(['P6h'], dtype='<U3'),\n",
      "          array(['P4h'], dtype='<U3'), array(['PPO4'], dtype='<U4'),\n",
      "          array(['PPOz'], dtype='<U4'), array(['PO1'], dtype='<U3'),\n",
      "          array(['PO2'], dtype='<U3'), array(['POOz'], dtype='<U4')]],\n",
      "        dtype=object), array([[-0.00320648, -0.00110379, -0.00194438, ...,  0.00122312,\n",
      "          -0.00015459,  0.00037507],\n",
      "         [-0.00349384, -0.00118703, -0.00204909, ...,  0.00133779,\n",
      "          -0.00091906, -0.00081502],\n",
      "         [-0.003278  , -0.00129821, -0.00222719, ...,  0.00104722,\n",
      "          -0.00119507, -0.00113421],\n",
      "         ...,\n",
      "         [-0.00499943,  0.0025267 , -0.00096346, ...,  0.00025817,\n",
      "          -0.00026377,  0.0019305 ],\n",
      "         [-0.00663261,  0.0030996 , -0.00071685, ...,  0.00025304,\n",
      "          -0.00049625,  0.00180004],\n",
      "         [-0.00652621,  0.00310908, -0.00061222, ..., -0.00029524,\n",
      "          -0.00038007,  0.00159435]]), array([[760, 850]], dtype=uint16), array(['NIRS (oxy, deoxy)'], dtype='<U17'), array(['mmol/L'], dtype='<U6'), array(['nback'], dtype='<U5'), array([], shape=(0, 0), dtype=uint8), array(['oxy'], dtype='<U3'))]]\n",
      "1\n"
     ]
    }
   ],
   "source": [
    "print(df[0][0])\n",
    "print(len(df[0][0]))"
   ]
  },
  {
   "cell_type": "code",
   "execution_count": 736,
   "metadata": {},
   "outputs": [
    {
     "name": "stdout",
     "output_type": "stream",
     "text": [
      "[(array([[10]], dtype=uint8), array([[16]], dtype=uint8), array([[16]], dtype=uint8), array(['single'], dtype='<U6'), array([[array(['AF7'], dtype='<U3'), array(['AFF5'], dtype='<U4'),\n",
      "         array(['AFp7'], dtype='<U4'), array(['AF5h'], dtype='<U4'),\n",
      "         array(['AFp3'], dtype='<U4'), array(['AFF3h'], dtype='<U5'),\n",
      "         array(['AF1'], dtype='<U3'), array(['AFFz'], dtype='<U4'),\n",
      "         array(['AFpz'], dtype='<U4'), array(['AF2'], dtype='<U3'),\n",
      "         array(['AFp4'], dtype='<U4'), array(['FCC3'], dtype='<U4'),\n",
      "         array(['C3h'], dtype='<U3'), array(['C5h'], dtype='<U3'),\n",
      "         array(['CCP3'], dtype='<U4'), array(['CPP3'], dtype='<U4'),\n",
      "         array(['P3h'], dtype='<U3'), array(['P5h'], dtype='<U3'),\n",
      "         array(['PPO3'], dtype='<U4'), array(['AFF4h'], dtype='<U5'),\n",
      "         array(['AF6h'], dtype='<U4'), array(['AFF6'], dtype='<U4'),\n",
      "         array(['AFp8'], dtype='<U4'), array(['AF8'], dtype='<U3'),\n",
      "         array(['FCC4'], dtype='<U4'), array(['C6h'], dtype='<U3'),\n",
      "         array(['C4h'], dtype='<U3'), array(['CCP4'], dtype='<U4'),\n",
      "         array(['CPP4'], dtype='<U4'), array(['P6h'], dtype='<U3'),\n",
      "         array(['P4h'], dtype='<U3'), array(['PPO4'], dtype='<U4'),\n",
      "         array(['PPOz'], dtype='<U4'), array(['PO1'], dtype='<U3'),\n",
      "         array(['PO2'], dtype='<U3'), array(['POOz'], dtype='<U4')]],\n",
      "       dtype=object), array([[-0.00320648, -0.00110379, -0.00194438, ...,  0.00122312,\n",
      "         -0.00015459,  0.00037507],\n",
      "        [-0.00349384, -0.00118703, -0.00204909, ...,  0.00133779,\n",
      "         -0.00091906, -0.00081502],\n",
      "        [-0.003278  , -0.00129821, -0.00222719, ...,  0.00104722,\n",
      "         -0.00119507, -0.00113421],\n",
      "        ...,\n",
      "        [-0.00499943,  0.0025267 , -0.00096346, ...,  0.00025817,\n",
      "         -0.00026377,  0.0019305 ],\n",
      "        [-0.00663261,  0.0030996 , -0.00071685, ...,  0.00025304,\n",
      "         -0.00049625,  0.00180004],\n",
      "        [-0.00652621,  0.00310908, -0.00061222, ..., -0.00029524,\n",
      "         -0.00038007,  0.00159435]]), array([[760, 850]], dtype=uint16), array(['NIRS (oxy, deoxy)'], dtype='<U17'), array(['mmol/L'], dtype='<U6'), array(['nback'], dtype='<U5'), array([], shape=(0, 0), dtype=uint8), array(['oxy'], dtype='<U3'))]\n",
      "1\n"
     ]
    }
   ],
   "source": [
    "print(df[0][0][0])\n",
    "print(len(df[0][0][0]))"
   ]
  },
  {
   "cell_type": "code",
   "execution_count": 737,
   "metadata": {},
   "outputs": [
    {
     "name": "stdout",
     "output_type": "stream",
     "text": [
      "(array([[10]], dtype=uint8), array([[16]], dtype=uint8), array([[16]], dtype=uint8), array(['single'], dtype='<U6'), array([[array(['AF7'], dtype='<U3'), array(['AFF5'], dtype='<U4'),\n",
      "        array(['AFp7'], dtype='<U4'), array(['AF5h'], dtype='<U4'),\n",
      "        array(['AFp3'], dtype='<U4'), array(['AFF3h'], dtype='<U5'),\n",
      "        array(['AF1'], dtype='<U3'), array(['AFFz'], dtype='<U4'),\n",
      "        array(['AFpz'], dtype='<U4'), array(['AF2'], dtype='<U3'),\n",
      "        array(['AFp4'], dtype='<U4'), array(['FCC3'], dtype='<U4'),\n",
      "        array(['C3h'], dtype='<U3'), array(['C5h'], dtype='<U3'),\n",
      "        array(['CCP3'], dtype='<U4'), array(['CPP3'], dtype='<U4'),\n",
      "        array(['P3h'], dtype='<U3'), array(['P5h'], dtype='<U3'),\n",
      "        array(['PPO3'], dtype='<U4'), array(['AFF4h'], dtype='<U5'),\n",
      "        array(['AF6h'], dtype='<U4'), array(['AFF6'], dtype='<U4'),\n",
      "        array(['AFp8'], dtype='<U4'), array(['AF8'], dtype='<U3'),\n",
      "        array(['FCC4'], dtype='<U4'), array(['C6h'], dtype='<U3'),\n",
      "        array(['C4h'], dtype='<U3'), array(['CCP4'], dtype='<U4'),\n",
      "        array(['CPP4'], dtype='<U4'), array(['P6h'], dtype='<U3'),\n",
      "        array(['P4h'], dtype='<U3'), array(['PPO4'], dtype='<U4'),\n",
      "        array(['PPOz'], dtype='<U4'), array(['PO1'], dtype='<U3'),\n",
      "        array(['PO2'], dtype='<U3'), array(['POOz'], dtype='<U4')]],\n",
      "      dtype=object), array([[-0.00320648, -0.00110379, -0.00194438, ...,  0.00122312,\n",
      "        -0.00015459,  0.00037507],\n",
      "       [-0.00349384, -0.00118703, -0.00204909, ...,  0.00133779,\n",
      "        -0.00091906, -0.00081502],\n",
      "       [-0.003278  , -0.00129821, -0.00222719, ...,  0.00104722,\n",
      "        -0.00119507, -0.00113421],\n",
      "       ...,\n",
      "       [-0.00499943,  0.0025267 , -0.00096346, ...,  0.00025817,\n",
      "        -0.00026377,  0.0019305 ],\n",
      "       [-0.00663261,  0.0030996 , -0.00071685, ...,  0.00025304,\n",
      "        -0.00049625,  0.00180004],\n",
      "       [-0.00652621,  0.00310908, -0.00061222, ..., -0.00029524,\n",
      "        -0.00038007,  0.00159435]]), array([[760, 850]], dtype=uint16), array(['NIRS (oxy, deoxy)'], dtype='<U17'), array(['mmol/L'], dtype='<U6'), array(['nback'], dtype='<U5'), array([], shape=(0, 0), dtype=uint8), array(['oxy'], dtype='<U3'))\n",
      "12\n"
     ]
    }
   ],
   "source": [
    "print(df[0][0][0][0])\n",
    "print(len(df[0][0][0][0]))"
   ]
  },
  {
   "cell_type": "code",
   "execution_count": 738,
   "metadata": {},
   "outputs": [
    {
     "name": "stdout",
     "output_type": "stream",
     "text": [
      "[[-0.00320648 -0.00110379 -0.00194438 ...  0.00122312 -0.00015459\n",
      "   0.00037507]\n",
      " [-0.00349384 -0.00118703 -0.00204909 ...  0.00133779 -0.00091906\n",
      "  -0.00081502]\n",
      " [-0.003278   -0.00129821 -0.00222719 ...  0.00104722 -0.00119507\n",
      "  -0.00113421]\n",
      " ...\n",
      " [-0.00499943  0.0025267  -0.00096346 ...  0.00025817 -0.00026377\n",
      "   0.0019305 ]\n",
      " [-0.00663261  0.0030996  -0.00071685 ...  0.00025304 -0.00049625\n",
      "   0.00180004]\n",
      " [-0.00652621  0.00310908 -0.00061222 ... -0.00029524 -0.00038007\n",
      "   0.00159435]]\n",
      "20747\n"
     ]
    }
   ],
   "source": [
    "print(df[0][0][0][0][5])\n",
    "print(len(df[0][0][0][0][5]))"
   ]
  },
  {
   "cell_type": "code",
   "execution_count": 739,
   "metadata": {},
   "outputs": [
    {
     "name": "stdout",
     "output_type": "stream",
     "text": [
      "(20747, 36)\n"
     ]
    }
   ],
   "source": [
    "print(df[0][0][0][0][5].shape)"
   ]
  },
  {
   "cell_type": "code",
   "execution_count": 740,
   "metadata": {},
   "outputs": [],
   "source": [
    "newdf=pd.DataFrame(df[0][0][0][0][5])\n",
    "newdf.to_csv(csv_file, index=False)"
   ]
  }
 ],
 "metadata": {
  "kernelspec": {
   "display_name": "cv",
   "language": "python",
   "name": "python3"
  },
  "language_info": {
   "codemirror_mode": {
    "name": "ipython",
    "version": 3
   },
   "file_extension": ".py",
   "mimetype": "text/x-python",
   "name": "python",
   "nbconvert_exporter": "python",
   "pygments_lexer": "ipython3",
   "version": "3.10.2"
  }
 },
 "nbformat": 4,
 "nbformat_minor": 2
}
